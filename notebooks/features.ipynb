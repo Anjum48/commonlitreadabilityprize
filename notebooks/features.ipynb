{
 "cells": [
  {
   "cell_type": "markdown",
   "metadata": {},
   "source": [
    "# Generate text based features"
   ]
  },
  {
   "cell_type": "code",
   "execution_count": 1,
   "metadata": {
    "ExecuteTime": {
     "end_time": "2021-06-08T10:14:21.166127Z",
     "start_time": "2021-06-08T10:14:20.663654Z"
    }
   },
   "outputs": [],
   "source": [
    "import pandas as pd\n",
    "import numpy as np\n",
    "import textstat\n",
    "import matplotlib.pyplot as plt\n",
    "from pathlib import Path\n",
    "\n",
    "INPUT_PATH = Path(\"/mnt/storage_dimm2/kaggle_data/commonlitreadabilityprize\")\n",
    "OUTPUT_PATH = Path(\"/mnt/storage/kaggle_output/commonlitreadabilityprize\")"
   ]
  },
  {
   "cell_type": "code",
   "execution_count": 2,
   "metadata": {
    "ExecuteTime": {
     "end_time": "2021-06-08T10:14:21.208782Z",
     "start_time": "2021-06-08T10:14:21.167644Z"
    }
   },
   "outputs": [
    {
     "data": {
      "text/html": [
       "<div>\n",
       "<style scoped>\n",
       "    .dataframe tbody tr th:only-of-type {\n",
       "        vertical-align: middle;\n",
       "    }\n",
       "\n",
       "    .dataframe tbody tr th {\n",
       "        vertical-align: top;\n",
       "    }\n",
       "\n",
       "    .dataframe thead th {\n",
       "        text-align: right;\n",
       "    }\n",
       "</style>\n",
       "<table border=\"1\" class=\"dataframe\">\n",
       "  <thead>\n",
       "    <tr style=\"text-align: right;\">\n",
       "      <th></th>\n",
       "      <th>id</th>\n",
       "      <th>url_legal</th>\n",
       "      <th>license</th>\n",
       "      <th>excerpt</th>\n",
       "      <th>target</th>\n",
       "      <th>standard_error</th>\n",
       "      <th>fold</th>\n",
       "      <th>prediction</th>\n",
       "      <th>residual</th>\n",
       "    </tr>\n",
       "  </thead>\n",
       "  <tbody>\n",
       "    <tr>\n",
       "      <th>0</th>\n",
       "      <td>6fceedb16</td>\n",
       "      <td>https://www.digitallibrary.io/en/books/details...</td>\n",
       "      <td>CC BY 4.0</td>\n",
       "      <td>It's carnival day. Hooray! shouts Little Mouse...</td>\n",
       "      <td>0.478452</td>\n",
       "      <td>0.553224</td>\n",
       "      <td>2</td>\n",
       "      <td>0.509785</td>\n",
       "      <td>0.031333</td>\n",
       "    </tr>\n",
       "    <tr>\n",
       "      <th>1</th>\n",
       "      <td>6a548181f</td>\n",
       "      <td>NaN</td>\n",
       "      <td>NaN</td>\n",
       "      <td>M. Leclerc du Sablon has published some of his...</td>\n",
       "      <td>-2.742465</td>\n",
       "      <td>0.503407</td>\n",
       "      <td>1</td>\n",
       "      <td>-2.561467</td>\n",
       "      <td>0.180999</td>\n",
       "    </tr>\n",
       "    <tr>\n",
       "      <th>2</th>\n",
       "      <td>3c0447a11</td>\n",
       "      <td>NaN</td>\n",
       "      <td>NaN</td>\n",
       "      <td>The cowherds loosened the buffalo's halter and...</td>\n",
       "      <td>-1.835394</td>\n",
       "      <td>0.505738</td>\n",
       "      <td>4</td>\n",
       "      <td>-0.585046</td>\n",
       "      <td>1.250348</td>\n",
       "    </tr>\n",
       "    <tr>\n",
       "      <th>3</th>\n",
       "      <td>5cb5ab998</td>\n",
       "      <td>NaN</td>\n",
       "      <td>NaN</td>\n",
       "      <td>When they drew near Nottingham, all the people...</td>\n",
       "      <td>-1.541347</td>\n",
       "      <td>0.478166</td>\n",
       "      <td>2</td>\n",
       "      <td>-0.907744</td>\n",
       "      <td>0.633603</td>\n",
       "    </tr>\n",
       "    <tr>\n",
       "      <th>4</th>\n",
       "      <td>a83725b19</td>\n",
       "      <td>NaN</td>\n",
       "      <td>NaN</td>\n",
       "      <td>I know that many people are worrying about Sta...</td>\n",
       "      <td>-1.191174</td>\n",
       "      <td>0.475461</td>\n",
       "      <td>0</td>\n",
       "      <td>-1.073316</td>\n",
       "      <td>0.117858</td>\n",
       "    </tr>\n",
       "  </tbody>\n",
       "</table>\n",
       "</div>"
      ],
      "text/plain": [
       "          id                                          url_legal    license  \\\n",
       "0  6fceedb16  https://www.digitallibrary.io/en/books/details...  CC BY 4.0   \n",
       "1  6a548181f                                                NaN        NaN   \n",
       "2  3c0447a11                                                NaN        NaN   \n",
       "3  5cb5ab998                                                NaN        NaN   \n",
       "4  a83725b19                                                NaN        NaN   \n",
       "\n",
       "                                             excerpt    target  \\\n",
       "0  It's carnival day. Hooray! shouts Little Mouse...  0.478452   \n",
       "1  M. Leclerc du Sablon has published some of his... -2.742465   \n",
       "2  The cowherds loosened the buffalo's halter and... -1.835394   \n",
       "3  When they drew near Nottingham, all the people... -1.541347   \n",
       "4  I know that many people are worrying about Sta... -1.191174   \n",
       "\n",
       "   standard_error  fold  prediction  residual  \n",
       "0        0.553224     2    0.509785  0.031333  \n",
       "1        0.503407     1   -2.561467  0.180999  \n",
       "2        0.505738     4   -0.585046  1.250348  \n",
       "3        0.478166     2   -0.907744  0.633603  \n",
       "4        0.475461     0   -1.073316  0.117858  "
      ]
     },
     "execution_count": 2,
     "metadata": {},
     "output_type": "execute_result"
    }
   ],
   "source": [
    "df = pd.read_csv(OUTPUT_PATH / \"20210607-205257\" / \"oofs_0.49327.csv\")\n",
    "\n",
    "df[\"residual\"] = df[\"prediction\"] - df[\"target\"]\n",
    "df.head()"
   ]
  },
  {
   "cell_type": "code",
   "execution_count": 3,
   "metadata": {
    "ExecuteTime": {
     "end_time": "2021-06-08T10:14:21.212939Z",
     "start_time": "2021-06-08T10:14:21.210009Z"
    }
   },
   "outputs": [
    {
     "name": "stdout",
     "output_type": "stream",
     "text": [
      "It's carnival day. Hooray! shouts Little Mouse. Hooray! shouts Littler Mouse. Hooray! shouts Tiny Mouse.\n",
      "They plan to ride every ride!\n",
      "\"But don't lose me!\" Tiny Mouse tells his brothers.\n",
      "They race each other on toy cars. They go up and down on the merry-go-round. They ride the winding caterpillar coaster. They take a spin on the Ferris wheel.The brothers walk to the balloon cart and they each buy a balloon.\n",
      "One balloon, two balloons...\n",
      "\"Wait, where is Tiny Mouse? \"\n",
      "Little Mouse and Littler Mouse run to the toy cars.\n",
      "Tiny Mouse isn't there.\n",
      "They run to the merry-go-round.\n",
      "Tiny Mouse isn't there.\n",
      "They run to the caterpillar coaster.\n",
      "Tiny Mouse isn't there, either.\n",
      "They run to the Ferris wheel.\n",
      "Thank goodness!\n",
      "The Little Mice each buy a glass of sugarcane juice. One glass, two glasses, three glasses!\n"
     ]
    }
   ],
   "source": [
    "text = df.loc[0, \"excerpt\"]\n",
    "print(text)"
   ]
  },
  {
   "cell_type": "code",
   "execution_count": 10,
   "metadata": {
    "ExecuteTime": {
     "end_time": "2021-06-08T11:52:22.340713Z",
     "start_time": "2021-06-08T11:52:21.603585Z"
    }
   },
   "outputs": [
    {
     "data": {
      "text/html": [
       "<div>\n",
       "<style scoped>\n",
       "    .dataframe tbody tr th:only-of-type {\n",
       "        vertical-align: middle;\n",
       "    }\n",
       "\n",
       "    .dataframe tbody tr th {\n",
       "        vertical-align: top;\n",
       "    }\n",
       "\n",
       "    .dataframe thead th {\n",
       "        text-align: right;\n",
       "    }\n",
       "</style>\n",
       "<table border=\"1\" class=\"dataframe\">\n",
       "  <thead>\n",
       "    <tr style=\"text-align: right;\">\n",
       "      <th></th>\n",
       "      <th>sentence_count</th>\n",
       "      <th>lexicon_count</th>\n",
       "      <th>flesch_reading_ease</th>\n",
       "    </tr>\n",
       "  </thead>\n",
       "  <tbody>\n",
       "    <tr>\n",
       "      <th>0</th>\n",
       "      <td>19</td>\n",
       "      <td>138</td>\n",
       "      <td>97.91</td>\n",
       "    </tr>\n",
       "    <tr>\n",
       "      <th>1</th>\n",
       "      <td>10</td>\n",
       "      <td>180</td>\n",
       "      <td>61.67</td>\n",
       "    </tr>\n",
       "    <tr>\n",
       "      <th>2</th>\n",
       "      <td>6</td>\n",
       "      <td>188</td>\n",
       "      <td>73.55</td>\n",
       "    </tr>\n",
       "    <tr>\n",
       "      <th>3</th>\n",
       "      <td>5</td>\n",
       "      <td>170</td>\n",
       "      <td>70.81</td>\n",
       "    </tr>\n",
       "    <tr>\n",
       "      <th>4</th>\n",
       "      <td>6</td>\n",
       "      <td>166</td>\n",
       "      <td>51.82</td>\n",
       "    </tr>\n",
       "  </tbody>\n",
       "</table>\n",
       "</div>"
      ],
      "text/plain": [
       "   sentence_count  lexicon_count  flesch_reading_ease\n",
       "0              19            138                97.91\n",
       "1              10            180                61.67\n",
       "2               6            188                73.55\n",
       "3               5            170                70.81\n",
       "4               6            166                51.82"
      ]
     },
     "execution_count": 10,
     "metadata": {},
     "output_type": "execute_result"
    }
   ],
   "source": [
    "def generate_features(text):\n",
    "    return {\n",
    "        \"sentence_count\": textstat.sentence_count(text),\n",
    "        \"lexicon_count\": textstat.lexicon_count(text),\n",
    "        \"flesch_reading_ease\": textstat.flesch_reading_ease(text),\n",
    "#         \"smog_index\": textstat.smog_index(text),\n",
    "#         \"flesch_kincaid_grade\": textstat.flesch_kincaid_grade(text),\n",
    "    }\n",
    "\n",
    "\n",
    "features_df = pd.DataFrame([generate_features(text) for text in df[\"excerpt\"]])\n",
    "features_df.head()"
   ]
  },
  {
   "cell_type": "code",
   "execution_count": 11,
   "metadata": {
    "ExecuteTime": {
     "end_time": "2021-06-08T11:52:31.354563Z",
     "start_time": "2021-06-08T11:52:31.337793Z"
    }
   },
   "outputs": [
    {
     "data": {
      "text/html": [
       "<div>\n",
       "<style scoped>\n",
       "    .dataframe tbody tr th:only-of-type {\n",
       "        vertical-align: middle;\n",
       "    }\n",
       "\n",
       "    .dataframe tbody tr th {\n",
       "        vertical-align: top;\n",
       "    }\n",
       "\n",
       "    .dataframe thead th {\n",
       "        text-align: right;\n",
       "    }\n",
       "</style>\n",
       "<table border=\"1\" class=\"dataframe\">\n",
       "  <thead>\n",
       "    <tr style=\"text-align: right;\">\n",
       "      <th></th>\n",
       "      <th>sentence_count</th>\n",
       "      <th>lexicon_count</th>\n",
       "      <th>flesch_reading_ease</th>\n",
       "    </tr>\n",
       "  </thead>\n",
       "  <tbody>\n",
       "    <tr>\n",
       "      <th>count</th>\n",
       "      <td>2834.000000</td>\n",
       "      <td>2834.000000</td>\n",
       "      <td>2834.000000</td>\n",
       "    </tr>\n",
       "    <tr>\n",
       "      <th>mean</th>\n",
       "      <td>8.564220</td>\n",
       "      <td>172.948483</td>\n",
       "      <td>67.742121</td>\n",
       "    </tr>\n",
       "    <tr>\n",
       "      <th>std</th>\n",
       "      <td>3.666797</td>\n",
       "      <td>16.974894</td>\n",
       "      <td>17.530230</td>\n",
       "    </tr>\n",
       "    <tr>\n",
       "      <th>min</th>\n",
       "      <td>2.000000</td>\n",
       "      <td>135.000000</td>\n",
       "      <td>-22.930000</td>\n",
       "    </tr>\n",
       "    <tr>\n",
       "      <th>25%</th>\n",
       "      <td>6.000000</td>\n",
       "      <td>159.000000</td>\n",
       "      <td>57.510000</td>\n",
       "    </tr>\n",
       "    <tr>\n",
       "      <th>50%</th>\n",
       "      <td>8.000000</td>\n",
       "      <td>175.000000</td>\n",
       "      <td>69.010000</td>\n",
       "    </tr>\n",
       "    <tr>\n",
       "      <th>75%</th>\n",
       "      <td>10.000000</td>\n",
       "      <td>187.000000</td>\n",
       "      <td>80.110000</td>\n",
       "    </tr>\n",
       "    <tr>\n",
       "      <th>max</th>\n",
       "      <td>38.000000</td>\n",
       "      <td>205.000000</td>\n",
       "      <td>114.520000</td>\n",
       "    </tr>\n",
       "  </tbody>\n",
       "</table>\n",
       "</div>"
      ],
      "text/plain": [
       "       sentence_count  lexicon_count  flesch_reading_ease\n",
       "count     2834.000000    2834.000000          2834.000000\n",
       "mean         8.564220     172.948483            67.742121\n",
       "std          3.666797      16.974894            17.530230\n",
       "min          2.000000     135.000000           -22.930000\n",
       "25%          6.000000     159.000000            57.510000\n",
       "50%          8.000000     175.000000            69.010000\n",
       "75%         10.000000     187.000000            80.110000\n",
       "max         38.000000     205.000000           114.520000"
      ]
     },
     "execution_count": 11,
     "metadata": {},
     "output_type": "execute_result"
    }
   ],
   "source": [
    "features_df.describe()"
   ]
  },
  {
   "cell_type": "code",
   "execution_count": 5,
   "metadata": {
    "ExecuteTime": {
     "end_time": "2021-06-08T10:14:23.042828Z",
     "start_time": "2021-06-08T10:14:22.849786Z"
    }
   },
   "outputs": [
    {
     "data": {
      "image/png": "[encoded data removed]",
      "text/plain": [
       "<Figure size 432x288 with 1 Axes>"
      ]
     },
     "metadata": {
      "needs_background": "light"
     },
     "output_type": "display_data"
    }
   ],
   "source": [
    "features_df[\"lexicon_count\"].hist(bins=50);"
   ]
  },
  {
   "cell_type": "markdown",
   "metadata": {},
   "source": [
    "# Test using `LinearRegression` and other models"
   ]
  },
  {
   "cell_type": "code",
   "execution_count": 6,
   "metadata": {
    "ExecuteTime": {
     "end_time": "2021-06-08T10:14:23.321229Z",
     "start_time": "2021-06-08T10:14:23.044235Z"
    }
   },
   "outputs": [],
   "source": [
    "from sklearn.linear_model import LinearRegression, Ridge, BayesianRidge\n",
    "from sklearn.ensemble import RandomForestRegressor\n",
    "from sklearn.metrics import mean_squared_error"
   ]
  },
  {
   "cell_type": "code",
   "execution_count": 7,
   "metadata": {
    "ExecuteTime": {
     "end_time": "2021-06-08T10:14:23.327315Z",
     "start_time": "2021-06-08T10:14:23.322992Z"
    }
   },
   "outputs": [],
   "source": [
    "def create_dataset(path):\n",
    "    df = pd.read_csv(path)\n",
    "    features_df = pd.DataFrame([generate_features(text) for text in df[\"excerpt\"]])\n",
    "    df = df.join(features_df)\n",
    "    features = [\"prediction\"] + features_df.columns.tolist()\n",
    "    return df, features\n",
    "\n",
    "\n",
    "def evaluate_model(model, df, features):\n",
    "    scores = []\n",
    "\n",
    "    for fold in range(5):\n",
    "        train = df.query(f\"fold != {fold}\")\n",
    "        valid = df.query(f\"fold == {fold}\")\n",
    "        X_train, y_train = train[features], train[\"target\"]\n",
    "        X_valid, y_valid = valid[features], valid[\"target\"]\n",
    "\n",
    "        model.fit(X_train, y_train)\n",
    "        y_pred = model.predict(X_valid)\n",
    "        rmse = np.sqrt(mean_squared_error(y_valid, y_pred))\n",
    "        scores.append(rmse)\n",
    "        print(f\"Fold {fold} RMSE: {rmse:0.5f}\", model.coef_, model.intercept_)\n",
    "\n",
    "    final_rmse = np.mean(scores)\n",
    "    print(f\"Final RMSE: {final_rmse:0.5f}\")\n",
    "    return final_rmse"
   ]
  },
  {
   "cell_type": "code",
   "execution_count": 8,
   "metadata": {
    "ExecuteTime": {
     "end_time": "2021-06-08T10:14:23.331697Z",
     "start_time": "2021-06-08T10:14:23.328420Z"
    }
   },
   "outputs": [],
   "source": [
    "paths = [\n",
    "    OUTPUT_PATH / \"20210607-205257\" / \"oofs_0.49327.csv\",\n",
    "    OUTPUT_PATH / \"20210607-222744\" / \"oofs_0.50062.csv\",    \n",
    "    OUTPUT_PATH / \"20210607-234728\" / \"oofs_0.49806.csv\",\n",
    "]"
   ]
  },
  {
   "cell_type": "code",
   "execution_count": 9,
   "metadata": {
    "ExecuteTime": {
     "end_time": "2021-06-08T10:14:25.774015Z",
     "start_time": "2021-06-08T10:14:23.332832Z"
    }
   },
   "outputs": [
    {
     "name": "stdout",
     "output_type": "stream",
     "text": [
      "Fold 0 RMSE: 0.49622 [ 9.59936974e-01 -8.35115865e-04  5.45502108e-04] -0.004779903983524791\n",
      "Fold 1 RMSE: 0.48444 [ 9.56879493e-01 -3.37367657e-04  4.14121608e-04] -0.06542154811528256\n",
      "Fold 2 RMSE: 0.48922 [ 9.55914119e-01 -1.24551630e-03  3.10951493e-04] 0.07520703945619356\n",
      "Fold 3 RMSE: 0.47394 [ 9.59124631e-01 -7.95555618e-04  8.75866082e-04] -0.028166961511662425\n",
      "Fold 4 RMSE: 0.49636 [ 9.73665321e-01 -6.17760624e-04 -1.63606411e-04] 0.023852314127885132\n",
      "Final RMSE: 0.48804\n",
      "Fold 0 RMSE: 0.49206 [ 9.90452295e-01 -2.23907640e-03 -7.23960773e-04] 0.36413679651547004\n",
      "Fold 1 RMSE: 0.47331 [ 9.84949067e-01 -1.26684938e-03 -4.87026624e-04] 0.16413249797771012\n",
      "Fold 2 RMSE: 0.51218 [ 0.98589651 -0.00238271 -0.0014135 ] 0.41637658412867673\n",
      "Fold 3 RMSE: 0.50036 [ 1.01846461 -0.00109244 -0.00111165] 0.20700815500680303\n",
      "Fold 4 RMSE: 0.50402 [ 9.95014686e-01 -1.14114582e-03 -1.79413710e-04] 0.12057344921155577\n",
      "Final RMSE: 0.49639\n",
      "Fold 0 RMSE: 0.48326 [ 9.71055856e-01 -1.54210492e-03 -1.40406192e-04] 0.2478457277533932\n",
      "Fold 1 RMSE: 0.50605 [ 9.90872268e-01 -1.66154246e-03 -2.70048547e-04] 0.27237044964514623\n",
      "Fold 2 RMSE: 0.49811 [ 1.01095762 -0.00134055 -0.00171878] 0.37002779759602766\n",
      "Fold 3 RMSE: 0.48982 [ 1.00343291 -0.00136594 -0.00125562] 0.30561444285566697\n",
      "Fold 4 RMSE: 0.52721 [ 0.99174055 -0.0015622  -0.00176226] 0.40238684310072237\n",
      "Final RMSE: 0.50089\n"
     ]
    },
    {
     "data": {
      "text/plain": [
       "0.49510409817970347"
      ]
     },
     "execution_count": 9,
     "metadata": {},
     "output_type": "execute_result"
    }
   ],
   "source": [
    "scores = []\n",
    "\n",
    "for path in paths:\n",
    "    scores.append(evaluate_model(LinearRegression(), *create_dataset(path)))\n",
    "    \n",
    "np.mean(scores)"
   ]
  },
  {
   "cell_type": "code",
   "execution_count": null,
   "metadata": {},
   "outputs": [],
   "source": []
  }
 ],
 "metadata": {
  "kernelspec": {
   "display_name": "Python 3.8.8 64-bit ('kaggle': conda)",
   "language": "python",
   "name": "python388jvsc74a57bd0324064526588904db53d8c1754501a1e17277e16e25f64624bf6abfe73e224f9"
  },
  "language_info": {
   "codemirror_mode": {
    "name": "ipython",
    "version": 3
   },
   "file_extension": ".py",
   "mimetype": "text/x-python",
   "name": "python",
   "nbconvert_exporter": "python",
   "pygments_lexer": "ipython3",
   "version": "3.8.8"
  }
 },
 "nbformat": 4,
 "nbformat_minor": 4
}
