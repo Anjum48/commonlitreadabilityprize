{
 "cells": [
  {
   "cell_type": "markdown",
   "metadata": {},
   "source": [
    "# GPyTorch starter code\n",
    "https://docs.gpytorch.ai/en/stable/examples/01_Exact_GPs/Simple_GP_Regression.html\n",
    "\n",
    "Issue: requires full batch training..."
   ]
  },
  {
   "cell_type": "code",
   "execution_count": 1,
   "metadata": {
    "ExecuteTime": {
     "end_time": "2021-06-01T09:48:15.507620Z",
     "start_time": "2021-06-01T09:48:14.425676Z"
    }
   },
   "outputs": [],
   "source": [
    "import math\n",
    "import torch\n",
    "import gpytorch\n",
    "import matplotlib.pyplot as plt"
   ]
  },
  {
   "cell_type": "code",
   "execution_count": 2,
   "metadata": {
    "ExecuteTime": {
     "end_time": "2021-06-01T09:48:15.512924Z",
     "start_time": "2021-06-01T09:48:15.509296Z"
    }
   },
   "outputs": [],
   "source": [
    "# Training data is 100 points in [0,1] inclusive regularly spaced\n",
    "train_x = torch.linspace(0, 1, 100)\n",
    "# True function is sin(2*pi*x) with Gaussian noise\n",
    "noise = torch.randn(train_x.size()) * math.sqrt(0.04)\n",
    "signal = torch.sin(train_x * (2 * math.pi))\n",
    "train_y = signal + noise\n",
    "\n",
    "noise_var = (signal - noise)**2\n",
    "# noise_var = torch.ones_like(train_y) * 0.04"
   ]
  },
  {
   "cell_type": "code",
   "execution_count": 3,
   "metadata": {
    "ExecuteTime": {
     "end_time": "2021-06-01T09:48:15.519898Z",
     "start_time": "2021-06-01T09:48:15.514460Z"
    }
   },
   "outputs": [],
   "source": [
    "# We will use the simplest form of GP model, exact inference\n",
    "class ExactGPModel(gpytorch.models.ExactGP):\n",
    "    def __init__(self, train_x, train_y, likelihood):\n",
    "        super(ExactGPModel, self).__init__(train_x, train_y, likelihood)\n",
    "        self.mean_module = gpytorch.means.ConstantMean()\n",
    "        self.covar_module = gpytorch.kernels.ScaleKernel(gpytorch.kernels.RBFKernel())\n",
    "\n",
    "    def forward(self, x):\n",
    "        mean_x = self.mean_module(x)\n",
    "        covar_x = self.covar_module(x)\n",
    "        return gpytorch.distributions.MultivariateNormal(mean_x, covar_x)\n",
    "\n",
    "# initialize likelihood and model\n",
    "# likelihood = gpytorch.likelihoods.GaussianLikelihood()\n",
    "likelihood = gpytorch.likelihoods.FixedNoiseGaussianLikelihood(noise=noise_var)  # Add noise term\n",
    "\n",
    "model = ExactGPModel(train_x, train_y, likelihood)"
   ]
  },
  {
   "cell_type": "code",
   "execution_count": 4,
   "metadata": {
    "ExecuteTime": {
     "end_time": "2021-06-01T09:48:15.899804Z",
     "start_time": "2021-06-01T09:48:15.521486Z"
    }
   },
   "outputs": [
    {
     "name": "stdout",
     "output_type": "stream",
     "text": [
      "Iter 1/100 - Loss: 3.045   lengthscale: 0.693   noise: 0.531\n",
      "Iter 2/100 - Loss: 2.673   lengthscale: 0.644   noise: 0.531\n",
      "Iter 3/100 - Loss: 2.266   lengthscale: 0.598   noise: 0.531\n",
      "Iter 4/100 - Loss: 1.868   lengthscale: 0.554   noise: 0.531\n",
      "Iter 5/100 - Loss: 1.520   lengthscale: 0.513   noise: 0.531\n",
      "Iter 6/100 - Loss: 1.246   lengthscale: 0.474   noise: 0.531\n",
      "Iter 7/100 - Loss: 1.046   lengthscale: 0.439   noise: 0.531\n",
      "Iter 8/100 - Loss: 0.907   lengthscale: 0.407   noise: 0.531\n",
      "Iter 9/100 - Loss: 0.813   lengthscale: 0.378   noise: 0.531\n",
      "Iter 10/100 - Loss: 0.750   lengthscale: 0.352   noise: 0.531\n",
      "Iter 11/100 - Loss: 0.709   lengthscale: 0.330   noise: 0.531\n",
      "Iter 12/100 - Loss: 0.683   lengthscale: 0.310   noise: 0.531\n",
      "Iter 13/100 - Loss: 0.666   lengthscale: 0.293   noise: 0.531\n",
      "Iter 14/100 - Loss: 0.655   lengthscale: 0.278   noise: 0.531\n",
      "Iter 15/100 - Loss: 0.647   lengthscale: 0.265   noise: 0.531\n",
      "Iter 16/100 - Loss: 0.641   lengthscale: 0.253   noise: 0.531\n",
      "Iter 17/100 - Loss: 0.635   lengthscale: 0.242   noise: 0.531\n",
      "Iter 18/100 - Loss: 0.630   lengthscale: 0.233   noise: 0.531\n",
      "Iter 19/100 - Loss: 0.625   lengthscale: 0.225   noise: 0.531\n",
      "Iter 20/100 - Loss: 0.620   lengthscale: 0.218   noise: 0.531\n",
      "Iter 21/100 - Loss: 0.615   lengthscale: 0.211   noise: 0.531\n",
      "Iter 22/100 - Loss: 0.611   lengthscale: 0.205   noise: 0.531\n",
      "Iter 23/100 - Loss: 0.607   lengthscale: 0.199   noise: 0.531\n",
      "Iter 24/100 - Loss: 0.603   lengthscale: 0.194   noise: 0.531\n",
      "Iter 25/100 - Loss: 0.600   lengthscale: 0.189   noise: 0.531\n",
      "Iter 26/100 - Loss: 0.598   lengthscale: 0.185   noise: 0.531\n",
      "Iter 27/100 - Loss: 0.596   lengthscale: 0.181   noise: 0.531\n",
      "Iter 28/100 - Loss: 0.594   lengthscale: 0.177   noise: 0.531\n",
      "Iter 29/100 - Loss: 0.593   lengthscale: 0.174   noise: 0.531\n",
      "Iter 30/100 - Loss: 0.593   lengthscale: 0.171   noise: 0.531\n",
      "Iter 31/100 - Loss: 0.592   lengthscale: 0.168   noise: 0.531\n",
      "Iter 32/100 - Loss: 0.592   lengthscale: 0.166   noise: 0.531\n",
      "Iter 33/100 - Loss: 0.592   lengthscale: 0.163   noise: 0.531\n",
      "Iter 34/100 - Loss: 0.592   lengthscale: 0.161   noise: 0.531\n",
      "Iter 35/100 - Loss: 0.592   lengthscale: 0.160   noise: 0.531\n",
      "Iter 36/100 - Loss: 0.592   lengthscale: 0.158   noise: 0.531\n",
      "Iter 37/100 - Loss: 0.593   lengthscale: 0.157   noise: 0.531\n",
      "Iter 38/100 - Loss: 0.593   lengthscale: 0.155   noise: 0.531\n",
      "Iter 39/100 - Loss: 0.593   lengthscale: 0.154   noise: 0.531\n",
      "Iter 40/100 - Loss: 0.593   lengthscale: 0.153   noise: 0.531\n",
      "Iter 41/100 - Loss: 0.594   lengthscale: 0.152   noise: 0.531\n",
      "Iter 42/100 - Loss: 0.594   lengthscale: 0.152   noise: 0.531\n",
      "Iter 43/100 - Loss: 0.594   lengthscale: 0.151   noise: 0.531\n",
      "Iter 44/100 - Loss: 0.594   lengthscale: 0.150   noise: 0.531\n",
      "Iter 45/100 - Loss: 0.594   lengthscale: 0.150   noise: 0.531\n",
      "Iter 46/100 - Loss: 0.594   lengthscale: 0.150   noise: 0.531\n",
      "Iter 47/100 - Loss: 0.594   lengthscale: 0.150   noise: 0.531\n",
      "Iter 48/100 - Loss: 0.594   lengthscale: 0.149   noise: 0.531\n",
      "Iter 49/100 - Loss: 0.594   lengthscale: 0.149   noise: 0.531\n",
      "Iter 50/100 - Loss: 0.594   lengthscale: 0.149   noise: 0.531\n",
      "Iter 51/100 - Loss: 0.594   lengthscale: 0.149   noise: 0.531\n",
      "Iter 52/100 - Loss: 0.594   lengthscale: 0.149   noise: 0.531\n",
      "Iter 53/100 - Loss: 0.594   lengthscale: 0.150   noise: 0.531\n",
      "Iter 54/100 - Loss: 0.594   lengthscale: 0.150   noise: 0.531\n",
      "Iter 55/100 - Loss: 0.594   lengthscale: 0.150   noise: 0.531\n",
      "Iter 56/100 - Loss: 0.594   lengthscale: 0.150   noise: 0.531\n",
      "Iter 57/100 - Loss: 0.594   lengthscale: 0.151   noise: 0.531\n",
      "Iter 58/100 - Loss: 0.593   lengthscale: 0.151   noise: 0.531\n",
      "Iter 59/100 - Loss: 0.593   lengthscale: 0.151   noise: 0.531\n",
      "Iter 60/100 - Loss: 0.593   lengthscale: 0.152   noise: 0.531\n",
      "Iter 61/100 - Loss: 0.593   lengthscale: 0.152   noise: 0.531\n",
      "Iter 62/100 - Loss: 0.593   lengthscale: 0.152   noise: 0.531\n",
      "Iter 63/100 - Loss: 0.593   lengthscale: 0.153   noise: 0.531\n",
      "Iter 64/100 - Loss: 0.592   lengthscale: 0.153   noise: 0.531\n",
      "Iter 65/100 - Loss: 0.592   lengthscale: 0.154   noise: 0.531\n",
      "Iter 66/100 - Loss: 0.592   lengthscale: 0.154   noise: 0.531\n",
      "Iter 67/100 - Loss: 0.592   lengthscale: 0.155   noise: 0.531\n",
      "Iter 68/100 - Loss: 0.592   lengthscale: 0.155   noise: 0.531\n",
      "Iter 69/100 - Loss: 0.592   lengthscale: 0.155   noise: 0.531\n",
      "Iter 70/100 - Loss: 0.591   lengthscale: 0.156   noise: 0.531\n",
      "Iter 71/100 - Loss: 0.591   lengthscale: 0.156   noise: 0.531\n",
      "Iter 72/100 - Loss: 0.591   lengthscale: 0.157   noise: 0.531\n",
      "Iter 73/100 - Loss: 0.591   lengthscale: 0.157   noise: 0.531\n",
      "Iter 74/100 - Loss: 0.591   lengthscale: 0.158   noise: 0.531\n",
      "Iter 75/100 - Loss: 0.591   lengthscale: 0.158   noise: 0.531\n",
      "Iter 76/100 - Loss: 0.591   lengthscale: 0.158   noise: 0.531\n",
      "Iter 77/100 - Loss: 0.591   lengthscale: 0.159   noise: 0.531\n",
      "Iter 78/100 - Loss: 0.591   lengthscale: 0.159   noise: 0.531\n",
      "Iter 79/100 - Loss: 0.591   lengthscale: 0.159   noise: 0.531\n",
      "Iter 80/100 - Loss: 0.591   lengthscale: 0.160   noise: 0.531\n",
      "Iter 81/100 - Loss: 0.590   lengthscale: 0.160   noise: 0.531\n",
      "Iter 82/100 - Loss: 0.590   lengthscale: 0.160   noise: 0.531\n",
      "Iter 83/100 - Loss: 0.590   lengthscale: 0.160   noise: 0.531\n",
      "Iter 84/100 - Loss: 0.590   lengthscale: 0.161   noise: 0.531\n",
      "Iter 85/100 - Loss: 0.590   lengthscale: 0.161   noise: 0.531\n",
      "Iter 86/100 - Loss: 0.590   lengthscale: 0.161   noise: 0.531\n",
      "Iter 87/100 - Loss: 0.590   lengthscale: 0.161   noise: 0.531\n",
      "Iter 88/100 - Loss: 0.590   lengthscale: 0.161   noise: 0.531\n",
      "Iter 89/100 - Loss: 0.590   lengthscale: 0.161   noise: 0.531\n",
      "Iter 90/100 - Loss: 0.590   lengthscale: 0.161   noise: 0.531\n",
      "Iter 91/100 - Loss: 0.590   lengthscale: 0.162   noise: 0.531\n",
      "Iter 92/100 - Loss: 0.590   lengthscale: 0.162   noise: 0.531\n",
      "Iter 93/100 - Loss: 0.590   lengthscale: 0.162   noise: 0.531\n",
      "Iter 94/100 - Loss: 0.590   lengthscale: 0.162   noise: 0.531\n",
      "Iter 95/100 - Loss: 0.590   lengthscale: 0.162   noise: 0.531\n",
      "Iter 96/100 - Loss: 0.590   lengthscale: 0.162   noise: 0.531\n",
      "Iter 97/100 - Loss: 0.590   lengthscale: 0.162   noise: 0.531\n",
      "Iter 98/100 - Loss: 0.590   lengthscale: 0.162   noise: 0.531\n",
      "Iter 99/100 - Loss: 0.590   lengthscale: 0.162   noise: 0.531\n",
      "Iter 100/100 - Loss: 0.589   lengthscale: 0.161   noise: 0.531\n"
     ]
    }
   ],
   "source": [
    "training_iter = 100\n",
    "\n",
    "# Find optimal model hyperparameters\n",
    "model.train()\n",
    "likelihood.train()\n",
    "\n",
    "# Use the adam optimizer\n",
    "optimizer = torch.optim.Adam(model.parameters(), lr=0.1)  # Includes GaussianLikelihood parameters\n",
    "\n",
    "# \"Loss\" for GPs - the marginal log likelihood\n",
    "mll = gpytorch.mlls.ExactMarginalLogLikelihood(likelihood, model)\n",
    "\n",
    "\n",
    "for i in range(training_iter):\n",
    "    # Zero gradients from previous iteration\n",
    "    optimizer.zero_grad()\n",
    "    # Output from model\n",
    "    output = model(train_x)\n",
    "    # Calc loss and backprop gradients\n",
    "    loss = -mll(output, train_y)\n",
    "    loss.backward()\n",
    "    print('Iter %d/%d - Loss: %.3f   lengthscale: %.3f   noise: %.3f' % (\n",
    "        i + 1, training_iter, loss.item(),\n",
    "        model.covar_module.base_kernel.lengthscale.item(),\n",
    "        model.likelihood.noise.mean()\n",
    "    ))\n",
    "    optimizer.step()"
   ]
  },
  {
   "cell_type": "code",
   "execution_count": 5,
   "metadata": {
    "ExecuteTime": {
     "end_time": "2021-06-01T09:48:15.915315Z",
     "start_time": "2021-06-01T09:48:15.901205Z"
    }
   },
   "outputs": [
    {
     "name": "stderr",
     "output_type": "stream",
     "text": [
      "/home/anjum/anaconda3/envs/kaggle/lib/python3.8/site-packages/gpytorch/likelihoods/gaussian_likelihood.py:225: GPInputWarning: You have passed data through a FixedNoiseGaussianLikelihood that did not match the size of the fixed noise, *and* you did not specify noise. This is treated as a no-op.\n",
      "  warnings.warn(\n"
     ]
    }
   ],
   "source": [
    "# Get into evaluation (predictive posterior) mode\n",
    "model.eval()\n",
    "likelihood.eval()\n",
    "\n",
    "# Test points are regularly spaced along [0,1]\n",
    "# Make predictions by feeding model through likelihood\n",
    "with torch.no_grad(), gpytorch.settings.fast_pred_var():\n",
    "    test_x = torch.linspace(0, 1, 51)\n",
    "    observed_pred = likelihood(model(test_x))"
   ]
  },
  {
   "cell_type": "code",
   "execution_count": 6,
   "metadata": {
    "ExecuteTime": {
     "end_time": "2021-06-01T09:48:16.085119Z",
     "start_time": "2021-06-01T09:48:15.916537Z"
    }
   },
   "outputs": [
    {
     "data": {
      "image/png": "[encoded data removed]",
      "text/plain": [
       "<Figure size 288x216 with 1 Axes>"
      ]
     },
     "metadata": {
      "needs_background": "light"
     },
     "output_type": "display_data"
    }
   ],
   "source": [
    "with torch.no_grad():\n",
    "    # Initialize plot\n",
    "    f, ax = plt.subplots(1, 1, figsize=(4, 3))\n",
    "\n",
    "    # Get upper and lower confidence bounds\n",
    "    lower, upper = observed_pred.confidence_region()\n",
    "    # Plot training data as black stars\n",
    "    ax.plot(train_x.numpy(), train_y.numpy(), 'k*')\n",
    "    # Plot predictive means as blue line\n",
    "    ax.plot(test_x.numpy(), observed_pred.mean.numpy(), 'b')\n",
    "    # Shade between the lower and upper confidence bounds\n",
    "    ax.fill_between(test_x.numpy(), lower.numpy(), upper.numpy(), alpha=0.5)\n",
    "    ax.set_ylim([-3, 3])\n",
    "    ax.legend(['Observed Data', 'Mean', 'Confidence'])"
   ]
  },
  {
   "cell_type": "code",
   "execution_count": 7,
   "metadata": {
    "ExecuteTime": {
     "end_time": "2021-06-01T09:48:16.093566Z",
     "start_time": "2021-06-01T09:48:16.087877Z"
    }
   },
   "outputs": [
    {
     "data": {
      "text/plain": [
       "tensor([ 0.0646,  0.2323,  0.3906,  0.5333,  0.6554,  0.7539,  0.8281,  0.8794,\n",
       "         0.9110,  0.9277,  0.9347,  0.9377,  0.9410,  0.9478,  0.9589,  0.9726,\n",
       "         0.9848,  0.9895,  0.9789,  0.9451,  0.8808,  0.7806,  0.6421,  0.4665,\n",
       "         0.2586,  0.0274, -0.2157, -0.4573, -0.6838, -0.8829, -1.0448, -1.1637,\n",
       "        -1.2376, -1.2692, -1.2644, -1.2320, -1.1819, -1.1238, -1.0660, -1.0140,\n",
       "        -0.9703, -0.9341, -0.9017, -0.8673, -0.8241, -0.7656, -0.6863, -0.5831,\n",
       "        -0.4555, -0.3059, -0.1394])"
      ]
     },
     "execution_count": 7,
     "metadata": {},
     "output_type": "execute_result"
    }
   ],
   "source": [
    "observed_pred.mean"
   ]
  },
  {
   "cell_type": "code",
   "execution_count": null,
   "metadata": {},
   "outputs": [],
   "source": []
  }
 ],
 "metadata": {
  "kernelspec": {
   "display_name": "Python 3.8.8 64-bit ('kaggle': conda)",
   "language": "python",
   "name": "python388jvsc74a57bd0324064526588904db53d8c1754501a1e17277e16e25f64624bf6abfe73e224f9"
  },
  "language_info": {
   "codemirror_mode": {
    "name": "ipython",
    "version": 3
   },
   "file_extension": ".py",
   "mimetype": "text/x-python",
   "name": "python",
   "nbconvert_exporter": "python",
   "pygments_lexer": "ipython3",
   "version": "3.8.8"
  }
 },
 "nbformat": 4,
 "nbformat_minor": 4
}
