{
 "cells": [
  {
   "cell_type": "code",
   "execution_count": 1,
   "metadata": {
    "ExecuteTime": {
     "end_time": "2021-06-08T08:55:04.761607Z",
     "start_time": "2021-06-08T08:55:04.119933Z"
    }
   },
   "outputs": [],
   "source": [
    "import pandas as pd\n",
    "import numpy as np\n",
    "from sklearn.metrics import mean_squared_error\n",
    "import matplotlib.pyplot as plt\n",
    "from pathlib import Path\n",
    "\n",
    "INPUT_PATH = Path(\"/mnt/storage_dimm2/kaggle_data/commonlitreadabilityprize\")\n",
    "OUTPUT_PATH = Path(\"/mnt/storage/kaggle_output/commonlitreadabilityprize\")"
   ]
  },
  {
   "cell_type": "code",
   "execution_count": 2,
   "metadata": {
    "ExecuteTime": {
     "end_time": "2021-06-08T08:55:04.800153Z",
     "start_time": "2021-06-08T08:55:04.762874Z"
    }
   },
   "outputs": [
    {
     "data": {
      "text/html": [
       "<div>\n",
       "<style scoped>\n",
       "    .dataframe tbody tr th:only-of-type {\n",
       "        vertical-align: middle;\n",
       "    }\n",
       "\n",
       "    .dataframe tbody tr th {\n",
       "        vertical-align: top;\n",
       "    }\n",
       "\n",
       "    .dataframe thead th {\n",
       "        text-align: right;\n",
       "    }\n",
       "</style>\n",
       "<table border=\"1\" class=\"dataframe\">\n",
       "  <thead>\n",
       "    <tr style=\"text-align: right;\">\n",
       "      <th></th>\n",
       "      <th>id</th>\n",
       "      <th>url_legal</th>\n",
       "      <th>license</th>\n",
       "      <th>excerpt</th>\n",
       "      <th>target</th>\n",
       "      <th>standard_error</th>\n",
       "      <th>fold</th>\n",
       "      <th>prediction</th>\n",
       "      <th>residual</th>\n",
       "    </tr>\n",
       "  </thead>\n",
       "  <tbody>\n",
       "    <tr>\n",
       "      <th>0</th>\n",
       "      <td>6fceedb16</td>\n",
       "      <td>https://www.digitallibrary.io/en/books/details...</td>\n",
       "      <td>CC BY 4.0</td>\n",
       "      <td>It's carnival day. Hooray! shouts Little Mouse...</td>\n",
       "      <td>0.478452</td>\n",
       "      <td>0.553224</td>\n",
       "      <td>2</td>\n",
       "      <td>0.509785</td>\n",
       "      <td>0.031333</td>\n",
       "    </tr>\n",
       "    <tr>\n",
       "      <th>1</th>\n",
       "      <td>6a548181f</td>\n",
       "      <td>NaN</td>\n",
       "      <td>NaN</td>\n",
       "      <td>M. Leclerc du Sablon has published some of his...</td>\n",
       "      <td>-2.742465</td>\n",
       "      <td>0.503407</td>\n",
       "      <td>1</td>\n",
       "      <td>-2.561467</td>\n",
       "      <td>0.180999</td>\n",
       "    </tr>\n",
       "    <tr>\n",
       "      <th>2</th>\n",
       "      <td>3c0447a11</td>\n",
       "      <td>NaN</td>\n",
       "      <td>NaN</td>\n",
       "      <td>The cowherds loosened the buffalo's halter and...</td>\n",
       "      <td>-1.835394</td>\n",
       "      <td>0.505738</td>\n",
       "      <td>4</td>\n",
       "      <td>-0.585046</td>\n",
       "      <td>1.250348</td>\n",
       "    </tr>\n",
       "    <tr>\n",
       "      <th>3</th>\n",
       "      <td>5cb5ab998</td>\n",
       "      <td>NaN</td>\n",
       "      <td>NaN</td>\n",
       "      <td>When they drew near Nottingham, all the people...</td>\n",
       "      <td>-1.541347</td>\n",
       "      <td>0.478166</td>\n",
       "      <td>2</td>\n",
       "      <td>-0.907744</td>\n",
       "      <td>0.633603</td>\n",
       "    </tr>\n",
       "    <tr>\n",
       "      <th>4</th>\n",
       "      <td>a83725b19</td>\n",
       "      <td>NaN</td>\n",
       "      <td>NaN</td>\n",
       "      <td>I know that many people are worrying about Sta...</td>\n",
       "      <td>-1.191174</td>\n",
       "      <td>0.475461</td>\n",
       "      <td>0</td>\n",
       "      <td>-1.073316</td>\n",
       "      <td>0.117858</td>\n",
       "    </tr>\n",
       "  </tbody>\n",
       "</table>\n",
       "</div>"
      ],
      "text/plain": [
       "          id                                          url_legal    license  \\\n",
       "0  6fceedb16  https://www.digitallibrary.io/en/books/details...  CC BY 4.0   \n",
       "1  6a548181f                                                NaN        NaN   \n",
       "2  3c0447a11                                                NaN        NaN   \n",
       "3  5cb5ab998                                                NaN        NaN   \n",
       "4  a83725b19                                                NaN        NaN   \n",
       "\n",
       "                                             excerpt    target  \\\n",
       "0  It's carnival day. Hooray! shouts Little Mouse...  0.478452   \n",
       "1  M. Leclerc du Sablon has published some of his... -2.742465   \n",
       "2  The cowherds loosened the buffalo's halter and... -1.835394   \n",
       "3  When they drew near Nottingham, all the people... -1.541347   \n",
       "4  I know that many people are worrying about Sta... -1.191174   \n",
       "\n",
       "   standard_error  fold  prediction  residual  \n",
       "0        0.553224     2    0.509785  0.031333  \n",
       "1        0.503407     1   -2.561467  0.180999  \n",
       "2        0.505738     4   -0.585046  1.250348  \n",
       "3        0.478166     2   -0.907744  0.633603  \n",
       "4        0.475461     0   -1.073316  0.117858  "
      ]
     },
     "execution_count": 2,
     "metadata": {},
     "output_type": "execute_result"
    }
   ],
   "source": [
    "df = pd.read_csv(OUTPUT_PATH / \"20210607-205257\" / \"oofs_0.49327.csv\")\n",
    "\n",
    "df[\"residual\"] = df[\"prediction\"] - df[\"target\"]\n",
    "df.head()"
   ]
  },
  {
   "cell_type": "code",
   "execution_count": 3,
   "metadata": {
    "ExecuteTime": {
     "end_time": "2021-06-08T08:55:05.052627Z",
     "start_time": "2021-06-08T08:55:04.801548Z"
    }
   },
   "outputs": [
    {
     "data": {
      "image/png": "[encoded data removed]",
      "text/plain": [
       "<Figure size 432x288 with 1 Axes>"
      ]
     },
     "metadata": {
      "needs_background": "light"
     },
     "output_type": "display_data"
    }
   ],
   "source": [
    "df[\"target\"].plot(kind=\"hist\", bins=50, alpha=0.5);\n",
    "df[\"prediction\"].plot(kind=\"hist\", bins=50, alpha=0.5);"
   ]
  },
  {
   "cell_type": "code",
   "execution_count": 4,
   "metadata": {
    "ExecuteTime": {
     "end_time": "2021-06-08T08:55:05.141457Z",
     "start_time": "2021-06-08T08:55:05.054202Z"
    }
   },
   "outputs": [
    {
     "data": {
      "image/png": "[encoded data removed]",
      "text/plain": [
       "<Figure size 432x288 with 1 Axes>"
      ]
     },
     "metadata": {
      "needs_background": "light"
     },
     "output_type": "display_data"
    }
   ],
   "source": [
    "plt.scatter(df[\"prediction\"], df[\"target\"]);"
   ]
  },
  {
   "cell_type": "code",
   "execution_count": 5,
   "metadata": {
    "ExecuteTime": {
     "end_time": "2021-06-08T08:55:05.243167Z",
     "start_time": "2021-06-08T08:55:05.142767Z"
    }
   },
   "outputs": [
    {
     "data": {
      "image/png": "[encoded data removed]",
      "text/plain": [
       "<Figure size 432x288 with 1 Axes>"
      ]
     },
     "metadata": {
      "needs_background": "light"
     },
     "output_type": "display_data"
    }
   ],
   "source": [
    "# Residuals\n",
    "plt.scatter(df[\"prediction\"], df[\"residual\"]);"
   ]
  },
  {
   "cell_type": "code",
   "execution_count": 9,
   "metadata": {
    "ExecuteTime": {
     "end_time": "2021-06-08T08:56:31.805438Z",
     "start_time": "2021-06-08T08:56:31.797833Z"
    }
   },
   "outputs": [
    {
     "name": "stdout",
     "output_type": "stream",
     "text": [
      "Midas was enjoying himself in his treasure-room, one day, as usual, when he perceived a shadow fall over the heaps of gold; and, looking suddenly up, what should he behold but the figure of a stranger, standing in the bright and narrow sunbeam! It was a young man, with a cheerful and ruddy face. Whether it was that the imagination of King Midas threw a yellow tinge over everything, or whatever the cause might be, he could not help fancying that the smile with which the stranger regarded him had a kind of golden radiance in it. Certainly, although his figure intercepted the sunshine, there was now a brighter gleam upon all the piled-up treasures than before. Even the remotest corners had their share of it, and were lighted up, when the stranger smiled, as with tips of flame and sparkles of fire.\n",
      "\n",
      "On the morning of the 20th of March, a long series of earthquakes spread alarm throughout all the cities and numerous villages that are scattered over the sides of Mt. Etna. The shocks followed each other at intervals of a few minutes; dull subterranean rumblings were heard; and a catastrophe was seen to be impending. Toward evening the ground cracked at the lower part of the south side of the mountain, at the limit of the cultivated zone, and at four kilometers to the north of the village of Nicolosi. There formed on the earth a large number of very wide fissures, through which escaped great volumes of steam and gases which enveloped the mountain in a thick haze; and toward night, a very bright red light, which, seen from Catania, seemed to come out in great waves from the foot of the mountain, announced the coming of the lava.\n",
      "\n",
      "The biggest desert in the world is in Africa, and is called the Sahara. It is almost as large as the Atlantic Ocean, but instead of water it is all sands and rocks. Like the ocean, it is visited with storms; dreadful gales, when the wind scoops up thousands of tons of sand and drives them forward, burying and crushing all they meet. And it has islands, too—small green patches, where springs bubble through the ground, and ferns and acacias and palm-trees grow. When a traveler sees one of these fertile spots afar off, he feels as a tempest-tossed sailor does at sight of land. It is delightful to quit the hot, baking sun, sit in shadow under the trees, and rest the eyes, long wearied with dazzling sands, on the sweet green and the clear spring. Oases, these islands are called. Long distances divide them. It is often a race for life to get across from one to the other.\n",
      "\n",
      "It is a remarkable river in this: that instead of widening toward its mouth, it grows narrower; grows narrower and deeper. From the junction of the Ohio to a point half way down to the sea, the width averages a mile in high water: thence to the sea the width steadily diminishes, until, at the 'Passes,' above the mouth, it is but little over half a mile. At the junction of the Ohio the Mississippi's depth is eighty-seven feet; the depth increases gradually, reaching one hundred and twenty-nine just above the mouth.\n",
      "The difference in rise and fall is also remarkable—not in the upper, but in the lower river. The rise is tolerably uniform down to Natchez (three hundred and sixty miles above the mouth)—about fifty feet. But at Bayou La Fourche the river rises only twenty-four feet; at New Orleans only fifteen, and just above the mouth only two and one half.\n",
      "\n",
      "Although Greece (or Hel´las) is only half as large as the State of New York, it holds a very important place in the history of the world. It is situated in the southern part of Europe, cut off from the rest of the continent by a chain of high mountains which form a great wall on the north. It is surrounded on nearly all sides by the blue waters of the Mediterranean Sea, which stretch so far inland that it is said no part of the country is forty miles from the sea, or ten miles from the hills. Thus shut in by sea and mountains, it forms a little territory by itself, and it was the home of a noted people.\n",
      "The history of Greece goes back to the time when people did not know how to write, and kept no record of what was happening around them. For a long while the stories told by parents to their children were the only information which could be had about the country and its former inhabitants; and these stories, slightly changed by every new teller, grew more and more extraordinary as time passed.\n",
      "\n"
     ]
    }
   ],
   "source": [
    "df_sorted = df.sort_values(by=\"residual\").head()\n",
    "for x in df_sorted[\"excerpt\"]:\n",
    "    print(x)\n",
    "    print()"
   ]
  },
  {
   "cell_type": "code",
   "execution_count": null,
   "metadata": {},
   "outputs": [],
   "source": []
  }
 ],
 "metadata": {
  "kernelspec": {
   "display_name": "Python 3.8.8 64-bit ('kaggle': conda)",
   "language": "python",
   "name": "python388jvsc74a57bd0324064526588904db53d8c1754501a1e17277e16e25f64624bf6abfe73e224f9"
  },
  "language_info": {
   "codemirror_mode": {
    "name": "ipython",
    "version": 3
   },
   "file_extension": ".py",
   "mimetype": "text/x-python",
   "name": "python",
   "nbconvert_exporter": "python",
   "pygments_lexer": "ipython3",
   "version": "3.8.8"
  }
 },
 "nbformat": 4,
 "nbformat_minor": 4
}
