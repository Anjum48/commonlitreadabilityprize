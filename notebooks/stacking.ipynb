{
 "cells": [
  {
   "cell_type": "code",
   "execution_count": 1,
   "metadata": {
    "ExecuteTime": {
     "end_time": "2021-06-23T07:38:29.836216Z",
     "start_time": "2021-06-23T07:38:29.098156Z"
    }
   },
   "outputs": [],
   "source": [
    "from sklearn.linear_model import (\n",
    "    LinearRegression,\n",
    "    RidgeCV,\n",
    "    BayesianRidge,\n",
    "    Ridge,\n",
    "    ElasticNetCV,\n",
    "    ElasticNet,\n",
    "    Lasso,\n",
    "    LassoCV,\n",
    "    LarsCV,\n",
    "    LassoLarsCV,\n",
    "    SGDRegressor,\n",
    "    TheilSenRegressor,\n",
    "    RANSACRegressor,\n",
    ")\n",
    "from sklearn.svm import SVR\n",
    "from sklearn.kernel_ridge import KernelRidge\n",
    "from sklearn.neural_network import MLPRegressor\n",
    "from sklearn.ensemble import BaggingRegressor, RandomForestRegressor\n",
    "from sklearn.model_selection import cross_val_score, LeaveOneOut, KFold, RepeatedKFold\n",
    "from sklearn.gaussian_process import GaussianProcessRegressor\n",
    "from sklearn.metrics import mean_squared_error\n",
    "from sklearn.preprocessing import PolynomialFeatures\n",
    "import pandas as pd\n",
    "import numpy as np\n",
    "import itertools\n",
    "import seaborn as sns\n",
    "import matplotlib.pyplot as plt\n",
    "from tqdm.notebook import tqdm\n",
    "from pathlib import Path\n",
    "\n",
    "INPUT_PATH = Path(\"/mnt/storage_dimm2/kaggle_data/commonlitreadabilityprize\")\n",
    "OUTPUT_PATH = Path(\"/mnt/storage_dimm2/kaggle_output/commonlitreadabilityprize\")"
   ]
  },
  {
   "cell_type": "code",
   "execution_count": 25,
   "metadata": {
    "ExecuteTime": {
     "end_time": "2021-06-23T08:18:54.513147Z",
     "start_time": "2021-06-23T08:18:54.502698Z"
    }
   },
   "outputs": [
    {
     "name": "stdout",
     "output_type": "stream",
     "text": [
      "69\n"
     ]
    }
   ],
   "source": [
    "# model_folders = [\n",
    "#     # complex-heron-of-science - roberta-base\n",
    "#     \"20210609-171109\",\n",
    "#     \"20210609-174639\",\n",
    "#     \"20210609-182121\",\n",
    "#     \"20210609-192843\",\n",
    "#     \"20210609-200242\",\n",
    "#     # impetuous-marvellous-cockle - roberta-large\n",
    "#     \"20210608-233655\",\n",
    "#     \"20210609-004922\",\n",
    "#     \"20210609-020213\",\n",
    "#     \"20210609-205046\",\n",
    "#     \"20210609-220344\",\n",
    "#     # zippy-caped-leech - albert-large\n",
    "#     \"20210609-125306\",\n",
    "#     \"20210609-141352\",\n",
    "#     \"20210609-154233\",\n",
    "#     \"20210610-000227\",\n",
    "#     \"20210610-013100\",\n",
    "#     # armored-cobalt-crow - distill roberta\n",
    "#     \"20210610-074205\",\n",
    "#     \"20210610-080716\",\n",
    "#     \"20210610-083206\",\n",
    "#     \"20210610-085718\",\n",
    "#     \"20210610-093912\",\n",
    "#     # big-slug-of-tranquility - funnel transformer\n",
    "#     \"20210610-100607\",\n",
    "#     \"20210610-111551\",\n",
    "#     \"20210610-122301\",\n",
    "#     \"20210610-133140\",\n",
    "#     \"20210610-144044\",\n",
    "#     # nocturnal-winged-lionfish - bert-base-uncased\n",
    "#     \"20210610-184414\",\n",
    "#     \"20210610-191826\",\n",
    "#     \"20210610-195230\",\n",
    "#     \"20210610-202640\",\n",
    "#     # adaptable-scallop-of-anger - roberta-base (hidden)\n",
    "#     \"20210610-222705\",\n",
    "#     \"20210610-230256\",\n",
    "#     \"20210610-233847\",\n",
    "#     \"20210611-001430\",\n",
    "#     \"20210611-005055\",\n",
    "#     # fluffy-dandelion-skua - roberta-large (hidden)\n",
    "#     \"20210611-012655\",\n",
    "#     \"20210611-024254\",\n",
    "#     \"20210611-035830\",\n",
    "#     \"20210611-051501\",\n",
    "#     \"20210611-063430\",\n",
    "#     # gregarious-classic-yak - albert-large (hidden)\n",
    "#     \"20210611-080150\",\n",
    "#     \"20210611-092625\",\n",
    "#     \"20210611-105105\",\n",
    "#     \"20210611-121556\",\n",
    "#     \"20210611-134040\",\n",
    "#     # serious-outrageous-caribou - deberta-base\n",
    "#     \"20210611-151313\",\n",
    "#     \"20210611-155942\",  # This seed seems amazing\n",
    "#     \"20210611-164611\",\n",
    "#     \"20210611-173302\",\n",
    "#     \"20210611-182030\",\n",
    "#     # ostrich-of-abstract-art - deberta-large\n",
    "#     \"20210611-191919\",\n",
    "#     \"20210611-212749\",\n",
    "#     \"20210611-233646\",\n",
    "#     \"20210612-014457\",\n",
    "#     \"20210612-035134\",\n",
    "# ]\n",
    "\n",
    "model_folders = [\n",
    "    # cherubic-nifty-serval - deberta-large\n",
    "    \"20210614-173633\",\n",
    "#     \"20210614-203831\",\n",
    "    \"20210614-234025\",\n",
    "    \"20210615-024138\",\n",
    "    \"20210615-054256\",\n",
    "    # scrupulous-mink-of-amplitude - deberta-base\n",
    "    \"20210615-084357\",\n",
    "    \"20210615-094729\",\n",
    "    \"20210615-105329\",\n",
    "    \"20210615-120001\",\n",
    "    \"20210615-130640\",\n",
    "    # notorious-sticky-gibbon - roberta-base (with hidden)\n",
    "    \"20210615-220146\",\n",
    "    \"20210615-225055\",\n",
    "    \"20210615-234038\",\n",
    "    \"20210616-003038\",\n",
    "    \"20210616-012048\",\n",
    "    # fortunate-cherry-mandrill - roberta-large\n",
    "    \"20210616-021135\",\n",
    "    \"20210616-041221\",\n",
    "    \"20210616-060255\",\n",
    "    \"20210616-075451\",\n",
    "    \"20210616-094506\",\n",
    "    # mottled-certain-caracal - distilroberta-base\n",
    "    \"20210616-113626\",\n",
    "    \"20210616-121203\",\n",
    "    \"20210616-124738\",\n",
    "    \"20210616-132341\",\n",
    "    \"20210616-140300\",\n",
    "    # aspiring-classic-pegasus - funnel\n",
    "    \"20210617-083847\", \n",
    "    \"20210617-102611\", \n",
    "    \"20210617-120949\", \n",
    "    \"20210617-135233\", \n",
    "    \"20210617-153459\", \n",
    "    # silver-bumblebee-of-attack - roberta-base\n",
    "    \"20210617-223340\",\n",
    "    \"20210617-232650\",\n",
    "    \"20210618-002022\",\n",
    "    \"20210618-011405\",\n",
    "    \"20210618-020751\",\n",
    "    # sloppy-resourceful-tanuki - albert-large\n",
    "    \"20210617-225903\",\n",
    "    \"20210618-010302\",\n",
    "    \"20210618-030706\",\n",
    "    \"20210618-051049\",\n",
    "    \"20210618-071437\",\n",
    "    # rustling-quirky-mastodon - bert-base-uncased\n",
    "    \"20210618-082756\",\n",
    "    \"20210618-092115\",\n",
    "    \"20210618-100526\",\n",
    "    \"20210618-105909\",\n",
    "    \"20210618-115253\",\n",
    "    # perky-defiant-husky - bert-large-uncased\n",
    "    \"20210618-124637\",\n",
    "    \"20210618-144213\",\n",
    "    \"20210618-163942\",\n",
    "    \"20210618-183719\",\n",
    "    \"20210618-203441\",\n",
    "    # gregarious-brass-perch - bart-base\n",
    "    \"20210618-223208\",\n",
    "    \"20210618-233614\",\n",
    "    \"20210619-004022\",\n",
    "    \"20210619-014809\",\n",
    "    \"20210619-025421\",\n",
    "    # military-firefly-of-apotheosis - bart-large\n",
    "    \"20210619-035747\",\n",
    "    \"20210619-064351\",\n",
    "    \"20210619-093050\",\n",
    "    \"20210619-121916\",\n",
    "    \"20210619-150740\",\n",
    "    # eccentric-lemur-of-tenacity - sentence-transformers/LaBSE\n",
    "    \"20210622-152356\",\n",
    "    \"20210622-161822\",\n",
    "    \"20210622-171312\",\n",
    "    \"20210622-181238\",\n",
    "    \"20210622-191326\",\n",
    "    # valiant-chameleon-of-chaos - sentence-transformers/bert-base-nli-cls-token\n",
    "    \"20210622-165808\",\n",
    "    \"20210622-174555\",\n",
    "    \"20210622-183427\",\n",
    "    \"20210622-192221\",\n",
    "    \"20210622-201127\",\n",
    "]\n",
    "\n",
    "print(len(model_folders))\n",
    "\n",
    "dataset_paths = [OUTPUT_PATH / f for f in model_folders]"
   ]
  },
  {
   "cell_type": "code",
   "execution_count": 26,
   "metadata": {
    "ExecuteTime": {
     "end_time": "2021-06-23T08:18:54.862770Z",
     "start_time": "2021-06-23T08:18:54.844486Z"
    }
   },
   "outputs": [
    {
     "data": {
      "text/plain": [
       "(69, 69)"
      ]
     },
     "execution_count": 26,
     "metadata": {},
     "output_type": "execute_result"
    }
   ],
   "source": [
    "mpaths, oof_paths = [], []\n",
    "for p in dataset_paths:\n",
    "    mpaths.append(sorted(list(p.glob(f\"*/*/*.ckpt\"))))\n",
    "    oof_paths.extend(sorted(list(p.glob(f\"*.csv\"))))\n",
    "    \n",
    "len(model_folders), len(oof_paths)"
   ]
  },
  {
   "cell_type": "code",
   "execution_count": 27,
   "metadata": {
    "ExecuteTime": {
     "end_time": "2021-06-23T08:18:57.037982Z",
     "start_time": "2021-06-23T08:18:55.236836Z"
    }
   },
   "outputs": [
    {
     "name": "stdout",
     "output_type": "stream",
     "text": [
      "69\n"
     ]
    },
    {
     "data": {
      "text/html": [
       "<div>\n",
       "<style scoped>\n",
       "    .dataframe tbody tr th:only-of-type {\n",
       "        vertical-align: middle;\n",
       "    }\n",
       "\n",
       "    .dataframe tbody tr th {\n",
       "        vertical-align: top;\n",
       "    }\n",
       "\n",
       "    .dataframe thead th {\n",
       "        text-align: right;\n",
       "    }\n",
       "</style>\n",
       "<table border=\"1\" class=\"dataframe\">\n",
       "  <thead>\n",
       "    <tr style=\"text-align: right;\">\n",
       "      <th></th>\n",
       "      <th>id</th>\n",
       "      <th>target</th>\n",
       "      <th>standard_error</th>\n",
       "      <th>20210614-173633</th>\n",
       "      <th>20210614-234025</th>\n",
       "      <th>20210615-024138</th>\n",
       "      <th>20210615-054256</th>\n",
       "      <th>20210615-084357</th>\n",
       "      <th>20210615-094729</th>\n",
       "      <th>20210615-105329</th>\n",
       "      <th>...</th>\n",
       "      <th>20210622-152356</th>\n",
       "      <th>20210622-161822</th>\n",
       "      <th>20210622-171312</th>\n",
       "      <th>20210622-181238</th>\n",
       "      <th>20210622-191326</th>\n",
       "      <th>20210622-165808</th>\n",
       "      <th>20210622-174555</th>\n",
       "      <th>20210622-183427</th>\n",
       "      <th>20210622-192221</th>\n",
       "      <th>20210622-201127</th>\n",
       "    </tr>\n",
       "  </thead>\n",
       "  <tbody>\n",
       "    <tr>\n",
       "      <th>1279</th>\n",
       "      <td>000accf7e</td>\n",
       "      <td>-2.002055</td>\n",
       "      <td>0.497274</td>\n",
       "      <td>-2.174165</td>\n",
       "      <td>-2.451190</td>\n",
       "      <td>-2.505858</td>\n",
       "      <td>-2.490587</td>\n",
       "      <td>-2.264506</td>\n",
       "      <td>-2.664520</td>\n",
       "      <td>-2.577108</td>\n",
       "      <td>...</td>\n",
       "      <td>-2.301096</td>\n",
       "      <td>-2.218182</td>\n",
       "      <td>-2.455187</td>\n",
       "      <td>-2.704325</td>\n",
       "      <td>-2.824249</td>\n",
       "      <td>-2.358142</td>\n",
       "      <td>-2.287553</td>\n",
       "      <td>-2.408700</td>\n",
       "      <td>-2.273954</td>\n",
       "      <td>-2.538192</td>\n",
       "    </tr>\n",
       "    <tr>\n",
       "      <th>2185</th>\n",
       "      <td>001ef05a9</td>\n",
       "      <td>0.841000</td>\n",
       "      <td>0.492411</td>\n",
       "      <td>0.669889</td>\n",
       "      <td>0.472606</td>\n",
       "      <td>0.514734</td>\n",
       "      <td>0.493645</td>\n",
       "      <td>0.528904</td>\n",
       "      <td>0.495011</td>\n",
       "      <td>0.183860</td>\n",
       "      <td>...</td>\n",
       "      <td>0.383570</td>\n",
       "      <td>0.278789</td>\n",
       "      <td>0.093302</td>\n",
       "      <td>0.155898</td>\n",
       "      <td>0.321397</td>\n",
       "      <td>0.376842</td>\n",
       "      <td>0.764521</td>\n",
       "      <td>0.658732</td>\n",
       "      <td>0.437012</td>\n",
       "      <td>0.608306</td>\n",
       "    </tr>\n",
       "    <tr>\n",
       "      <th>332</th>\n",
       "      <td>00589d631</td>\n",
       "      <td>-2.195109</td>\n",
       "      <td>0.520239</td>\n",
       "      <td>-1.908255</td>\n",
       "      <td>-2.064695</td>\n",
       "      <td>-2.545308</td>\n",
       "      <td>-2.129548</td>\n",
       "      <td>-2.160540</td>\n",
       "      <td>-2.234235</td>\n",
       "      <td>-2.303517</td>\n",
       "      <td>...</td>\n",
       "      <td>-1.815974</td>\n",
       "      <td>-2.159087</td>\n",
       "      <td>-1.882258</td>\n",
       "      <td>-1.806120</td>\n",
       "      <td>-2.275727</td>\n",
       "      <td>-1.587003</td>\n",
       "      <td>-2.128695</td>\n",
       "      <td>-1.960583</td>\n",
       "      <td>-1.843070</td>\n",
       "      <td>-1.971397</td>\n",
       "    </tr>\n",
       "    <tr>\n",
       "      <th>72</th>\n",
       "      <td>0060c36b9</td>\n",
       "      <td>-1.333456</td>\n",
       "      <td>0.492384</td>\n",
       "      <td>-1.098570</td>\n",
       "      <td>-1.161226</td>\n",
       "      <td>-1.260594</td>\n",
       "      <td>-1.139692</td>\n",
       "      <td>-0.983574</td>\n",
       "      <td>-1.220255</td>\n",
       "      <td>-1.124083</td>\n",
       "      <td>...</td>\n",
       "      <td>-1.085744</td>\n",
       "      <td>-1.186338</td>\n",
       "      <td>-1.131350</td>\n",
       "      <td>-1.068403</td>\n",
       "      <td>-1.120813</td>\n",
       "      <td>-1.025191</td>\n",
       "      <td>-0.944617</td>\n",
       "      <td>-0.876536</td>\n",
       "      <td>-0.884135</td>\n",
       "      <td>-0.993464</td>\n",
       "    </tr>\n",
       "    <tr>\n",
       "      <th>2694</th>\n",
       "      <td>00d4d251d</td>\n",
       "      <td>0.088764</td>\n",
       "      <td>0.463817</td>\n",
       "      <td>-0.226934</td>\n",
       "      <td>-0.219147</td>\n",
       "      <td>-0.192564</td>\n",
       "      <td>0.082993</td>\n",
       "      <td>-0.454333</td>\n",
       "      <td>-0.133543</td>\n",
       "      <td>-0.273784</td>\n",
       "      <td>...</td>\n",
       "      <td>-0.049581</td>\n",
       "      <td>-0.149926</td>\n",
       "      <td>-0.216903</td>\n",
       "      <td>0.055648</td>\n",
       "      <td>0.044118</td>\n",
       "      <td>-0.136744</td>\n",
       "      <td>-0.096812</td>\n",
       "      <td>-0.485419</td>\n",
       "      <td>-0.271610</td>\n",
       "      <td>-0.180152</td>\n",
       "    </tr>\n",
       "  </tbody>\n",
       "</table>\n",
       "<p>5 rows × 72 columns</p>\n",
       "</div>"
      ],
      "text/plain": [
       "             id    target  standard_error  20210614-173633  20210614-234025  \\\n",
       "1279  000accf7e -2.002055        0.497274        -2.174165        -2.451190   \n",
       "2185  001ef05a9  0.841000        0.492411         0.669889         0.472606   \n",
       "332   00589d631 -2.195109        0.520239        -1.908255        -2.064695   \n",
       "72    0060c36b9 -1.333456        0.492384        -1.098570        -1.161226   \n",
       "2694  00d4d251d  0.088764        0.463817        -0.226934        -0.219147   \n",
       "\n",
       "      20210615-024138  20210615-054256  20210615-084357  20210615-094729  \\\n",
       "1279        -2.505858        -2.490587        -2.264506        -2.664520   \n",
       "2185         0.514734         0.493645         0.528904         0.495011   \n",
       "332         -2.545308        -2.129548        -2.160540        -2.234235   \n",
       "72          -1.260594        -1.139692        -0.983574        -1.220255   \n",
       "2694        -0.192564         0.082993        -0.454333        -0.133543   \n",
       "\n",
       "      20210615-105329  ...  20210622-152356  20210622-161822  20210622-171312  \\\n",
       "1279        -2.577108  ...        -2.301096        -2.218182        -2.455187   \n",
       "2185         0.183860  ...         0.383570         0.278789         0.093302   \n",
       "332         -2.303517  ...        -1.815974        -2.159087        -1.882258   \n",
       "72          -1.124083  ...        -1.085744        -1.186338        -1.131350   \n",
       "2694        -0.273784  ...        -0.049581        -0.149926        -0.216903   \n",
       "\n",
       "      20210622-181238  20210622-191326  20210622-165808  20210622-174555  \\\n",
       "1279        -2.704325        -2.824249        -2.358142        -2.287553   \n",
       "2185         0.155898         0.321397         0.376842         0.764521   \n",
       "332         -1.806120        -2.275727        -1.587003        -2.128695   \n",
       "72          -1.068403        -1.120813        -1.025191        -0.944617   \n",
       "2694         0.055648         0.044118        -0.136744        -0.096812   \n",
       "\n",
       "      20210622-183427  20210622-192221  20210622-201127  \n",
       "1279        -2.408700        -2.273954        -2.538192  \n",
       "2185         0.658732         0.437012         0.608306  \n",
       "332         -1.960583        -1.843070        -1.971397  \n",
       "72          -0.876536        -0.884135        -0.993464  \n",
       "2694        -0.485419        -0.271610        -0.180152  \n",
       "\n",
       "[5 rows x 72 columns]"
      ]
     },
     "execution_count": 27,
     "metadata": {},
     "output_type": "execute_result"
    }
   ],
   "source": [
    "oofs = pd.read_csv(INPUT_PATH / \"train.csv\", usecols=[\"id\", \"target\", \"standard_error\"]).sort_values(\n",
    "        by=\"id\"\n",
    "    )\n",
    "for i, (p, f) in enumerate(zip(oof_paths, model_folders)):\n",
    "    x = pd.read_csv(p).sort_values(by=\"id\")\n",
    "    oofs[f] = x[\"prediction\"].values\n",
    "\n",
    "# pred_cols = [f\"model_{i}\" for i in range(len(mpaths))]\n",
    "pred_cols = model_folders\n",
    "\n",
    "print(len(pred_cols))\n",
    "    \n",
    "oofs.head()"
   ]
  },
  {
   "cell_type": "code",
   "execution_count": 28,
   "metadata": {
    "ExecuteTime": {
     "end_time": "2021-06-23T08:18:57.151563Z",
     "start_time": "2021-06-23T08:18:57.039239Z"
    }
   },
   "outputs": [
    {
     "data": {
      "text/html": [
       "<div>\n",
       "<style scoped>\n",
       "    .dataframe tbody tr th:only-of-type {\n",
       "        vertical-align: middle;\n",
       "    }\n",
       "\n",
       "    .dataframe tbody tr th {\n",
       "        vertical-align: top;\n",
       "    }\n",
       "\n",
       "    .dataframe thead th {\n",
       "        text-align: right;\n",
       "    }\n",
       "</style>\n",
       "<table border=\"1\" class=\"dataframe\">\n",
       "  <thead>\n",
       "    <tr style=\"text-align: right;\">\n",
       "      <th></th>\n",
       "      <th>target</th>\n",
       "      <th>standard_error</th>\n",
       "      <th>20210614-173633</th>\n",
       "      <th>20210614-234025</th>\n",
       "      <th>20210615-024138</th>\n",
       "      <th>20210615-054256</th>\n",
       "      <th>20210615-084357</th>\n",
       "      <th>20210615-094729</th>\n",
       "      <th>20210615-105329</th>\n",
       "      <th>20210615-120001</th>\n",
       "      <th>...</th>\n",
       "      <th>20210622-152356</th>\n",
       "      <th>20210622-161822</th>\n",
       "      <th>20210622-171312</th>\n",
       "      <th>20210622-181238</th>\n",
       "      <th>20210622-191326</th>\n",
       "      <th>20210622-165808</th>\n",
       "      <th>20210622-174555</th>\n",
       "      <th>20210622-183427</th>\n",
       "      <th>20210622-192221</th>\n",
       "      <th>20210622-201127</th>\n",
       "    </tr>\n",
       "  </thead>\n",
       "  <tbody>\n",
       "    <tr>\n",
       "      <th>count</th>\n",
       "      <td>2834.000000</td>\n",
       "      <td>2834.000000</td>\n",
       "      <td>2834.000000</td>\n",
       "      <td>2834.000000</td>\n",
       "      <td>2834.000000</td>\n",
       "      <td>2834.000000</td>\n",
       "      <td>2834.000000</td>\n",
       "      <td>2834.000000</td>\n",
       "      <td>2834.000000</td>\n",
       "      <td>2834.000000</td>\n",
       "      <td>...</td>\n",
       "      <td>2834.000000</td>\n",
       "      <td>2834.000000</td>\n",
       "      <td>2834.000000</td>\n",
       "      <td>2834.000000</td>\n",
       "      <td>2834.000000</td>\n",
       "      <td>2834.000000</td>\n",
       "      <td>2834.000000</td>\n",
       "      <td>2834.000000</td>\n",
       "      <td>2834.000000</td>\n",
       "      <td>2834.000000</td>\n",
       "    </tr>\n",
       "    <tr>\n",
       "      <th>mean</th>\n",
       "      <td>-0.959319</td>\n",
       "      <td>0.491435</td>\n",
       "      <td>-0.948092</td>\n",
       "      <td>-0.936123</td>\n",
       "      <td>-0.968496</td>\n",
       "      <td>-0.958907</td>\n",
       "      <td>-0.891844</td>\n",
       "      <td>-0.910382</td>\n",
       "      <td>-0.932254</td>\n",
       "      <td>-0.873602</td>\n",
       "      <td>...</td>\n",
       "      <td>-0.893504</td>\n",
       "      <td>-0.930947</td>\n",
       "      <td>-0.935697</td>\n",
       "      <td>-0.930612</td>\n",
       "      <td>-0.945397</td>\n",
       "      <td>-0.875725</td>\n",
       "      <td>-0.867263</td>\n",
       "      <td>-0.916098</td>\n",
       "      <td>-0.922607</td>\n",
       "      <td>-0.906896</td>\n",
       "    </tr>\n",
       "    <tr>\n",
       "      <th>std</th>\n",
       "      <td>1.033579</td>\n",
       "      <td>0.034818</td>\n",
       "      <td>0.912312</td>\n",
       "      <td>0.913707</td>\n",
       "      <td>0.930968</td>\n",
       "      <td>0.905059</td>\n",
       "      <td>0.907261</td>\n",
       "      <td>0.927470</td>\n",
       "      <td>0.911461</td>\n",
       "      <td>0.905666</td>\n",
       "      <td>...</td>\n",
       "      <td>0.917795</td>\n",
       "      <td>0.883457</td>\n",
       "      <td>0.882028</td>\n",
       "      <td>0.929505</td>\n",
       "      <td>0.897549</td>\n",
       "      <td>0.895349</td>\n",
       "      <td>0.912479</td>\n",
       "      <td>0.909412</td>\n",
       "      <td>0.874168</td>\n",
       "      <td>0.879002</td>\n",
       "    </tr>\n",
       "    <tr>\n",
       "      <th>min</th>\n",
       "      <td>-3.676268</td>\n",
       "      <td>0.000000</td>\n",
       "      <td>-3.560785</td>\n",
       "      <td>-3.732013</td>\n",
       "      <td>-3.534283</td>\n",
       "      <td>-3.483280</td>\n",
       "      <td>-3.612729</td>\n",
       "      <td>-3.607502</td>\n",
       "      <td>-3.599687</td>\n",
       "      <td>-3.633023</td>\n",
       "      <td>...</td>\n",
       "      <td>-3.436680</td>\n",
       "      <td>-3.326350</td>\n",
       "      <td>-3.448749</td>\n",
       "      <td>-3.328314</td>\n",
       "      <td>-3.481294</td>\n",
       "      <td>-3.380171</td>\n",
       "      <td>-3.294784</td>\n",
       "      <td>-3.630807</td>\n",
       "      <td>-3.322556</td>\n",
       "      <td>-3.512614</td>\n",
       "    </tr>\n",
       "    <tr>\n",
       "      <th>25%</th>\n",
       "      <td>-1.690320</td>\n",
       "      <td>0.468543</td>\n",
       "      <td>-1.613250</td>\n",
       "      <td>-1.616401</td>\n",
       "      <td>-1.659845</td>\n",
       "      <td>-1.625832</td>\n",
       "      <td>-1.550567</td>\n",
       "      <td>-1.581456</td>\n",
       "      <td>-1.592230</td>\n",
       "      <td>-1.532337</td>\n",
       "      <td>...</td>\n",
       "      <td>-1.554786</td>\n",
       "      <td>-1.577877</td>\n",
       "      <td>-1.563907</td>\n",
       "      <td>-1.626398</td>\n",
       "      <td>-1.600115</td>\n",
       "      <td>-1.531903</td>\n",
       "      <td>-1.526976</td>\n",
       "      <td>-1.558302</td>\n",
       "      <td>-1.564922</td>\n",
       "      <td>-1.550203</td>\n",
       "    </tr>\n",
       "    <tr>\n",
       "      <th>50%</th>\n",
       "      <td>-0.912190</td>\n",
       "      <td>0.484721</td>\n",
       "      <td>-0.900925</td>\n",
       "      <td>-0.904669</td>\n",
       "      <td>-0.926716</td>\n",
       "      <td>-0.913854</td>\n",
       "      <td>-0.845645</td>\n",
       "      <td>-0.853657</td>\n",
       "      <td>-0.858941</td>\n",
       "      <td>-0.827258</td>\n",
       "      <td>...</td>\n",
       "      <td>-0.821609</td>\n",
       "      <td>-0.876551</td>\n",
       "      <td>-0.851236</td>\n",
       "      <td>-0.858103</td>\n",
       "      <td>-0.865695</td>\n",
       "      <td>-0.815483</td>\n",
       "      <td>-0.806504</td>\n",
       "      <td>-0.851151</td>\n",
       "      <td>-0.849488</td>\n",
       "      <td>-0.843045</td>\n",
       "    </tr>\n",
       "    <tr>\n",
       "      <th>75%</th>\n",
       "      <td>-0.202540</td>\n",
       "      <td>0.506268</td>\n",
       "      <td>-0.242909</td>\n",
       "      <td>-0.232878</td>\n",
       "      <td>-0.260776</td>\n",
       "      <td>-0.254002</td>\n",
       "      <td>-0.191775</td>\n",
       "      <td>-0.206128</td>\n",
       "      <td>-0.229850</td>\n",
       "      <td>-0.171765</td>\n",
       "      <td>...</td>\n",
       "      <td>-0.196081</td>\n",
       "      <td>-0.237076</td>\n",
       "      <td>-0.265601</td>\n",
       "      <td>-0.198050</td>\n",
       "      <td>-0.260768</td>\n",
       "      <td>-0.179170</td>\n",
       "      <td>-0.159501</td>\n",
       "      <td>-0.233472</td>\n",
       "      <td>-0.246678</td>\n",
       "      <td>-0.213155</td>\n",
       "    </tr>\n",
       "    <tr>\n",
       "      <th>max</th>\n",
       "      <td>1.711390</td>\n",
       "      <td>0.649671</td>\n",
       "      <td>1.249225</td>\n",
       "      <td>1.232993</td>\n",
       "      <td>1.288711</td>\n",
       "      <td>1.167053</td>\n",
       "      <td>1.241939</td>\n",
       "      <td>1.432130</td>\n",
       "      <td>1.164523</td>\n",
       "      <td>1.428027</td>\n",
       "      <td>...</td>\n",
       "      <td>1.220793</td>\n",
       "      <td>1.198255</td>\n",
       "      <td>1.352262</td>\n",
       "      <td>1.323812</td>\n",
       "      <td>1.293701</td>\n",
       "      <td>1.218863</td>\n",
       "      <td>1.373409</td>\n",
       "      <td>1.244158</td>\n",
       "      <td>1.119674</td>\n",
       "      <td>1.307637</td>\n",
       "    </tr>\n",
       "  </tbody>\n",
       "</table>\n",
       "<p>8 rows × 71 columns</p>\n",
       "</div>"
      ],
      "text/plain": [
       "            target  standard_error  20210614-173633  20210614-234025  \\\n",
       "count  2834.000000     2834.000000      2834.000000      2834.000000   \n",
       "mean     -0.959319        0.491435        -0.948092        -0.936123   \n",
       "std       1.033579        0.034818         0.912312         0.913707   \n",
       "min      -3.676268        0.000000        -3.560785        -3.732013   \n",
       "25%      -1.690320        0.468543        -1.613250        -1.616401   \n",
       "50%      -0.912190        0.484721        -0.900925        -0.904669   \n",
       "75%      -0.202540        0.506268        -0.242909        -0.232878   \n",
       "max       1.711390        0.649671         1.249225         1.232993   \n",
       "\n",
       "       20210615-024138  20210615-054256  20210615-084357  20210615-094729  \\\n",
       "count      2834.000000      2834.000000      2834.000000      2834.000000   \n",
       "mean         -0.968496        -0.958907        -0.891844        -0.910382   \n",
       "std           0.930968         0.905059         0.907261         0.927470   \n",
       "min          -3.534283        -3.483280        -3.612729        -3.607502   \n",
       "25%          -1.659845        -1.625832        -1.550567        -1.581456   \n",
       "50%          -0.926716        -0.913854        -0.845645        -0.853657   \n",
       "75%          -0.260776        -0.254002        -0.191775        -0.206128   \n",
       "max           1.288711         1.167053         1.241939         1.432130   \n",
       "\n",
       "       20210615-105329  20210615-120001  ...  20210622-152356  \\\n",
       "count      2834.000000      2834.000000  ...      2834.000000   \n",
       "mean         -0.932254        -0.873602  ...        -0.893504   \n",
       "std           0.911461         0.905666  ...         0.917795   \n",
       "min          -3.599687        -3.633023  ...        -3.436680   \n",
       "25%          -1.592230        -1.532337  ...        -1.554786   \n",
       "50%          -0.858941        -0.827258  ...        -0.821609   \n",
       "75%          -0.229850        -0.171765  ...        -0.196081   \n",
       "max           1.164523         1.428027  ...         1.220793   \n",
       "\n",
       "       20210622-161822  20210622-171312  20210622-181238  20210622-191326  \\\n",
       "count      2834.000000      2834.000000      2834.000000      2834.000000   \n",
       "mean         -0.930947        -0.935697        -0.930612        -0.945397   \n",
       "std           0.883457         0.882028         0.929505         0.897549   \n",
       "min          -3.326350        -3.448749        -3.328314        -3.481294   \n",
       "25%          -1.577877        -1.563907        -1.626398        -1.600115   \n",
       "50%          -0.876551        -0.851236        -0.858103        -0.865695   \n",
       "75%          -0.237076        -0.265601        -0.198050        -0.260768   \n",
       "max           1.198255         1.352262         1.323812         1.293701   \n",
       "\n",
       "       20210622-165808  20210622-174555  20210622-183427  20210622-192221  \\\n",
       "count      2834.000000      2834.000000      2834.000000      2834.000000   \n",
       "mean         -0.875725        -0.867263        -0.916098        -0.922607   \n",
       "std           0.895349         0.912479         0.909412         0.874168   \n",
       "min          -3.380171        -3.294784        -3.630807        -3.322556   \n",
       "25%          -1.531903        -1.526976        -1.558302        -1.564922   \n",
       "50%          -0.815483        -0.806504        -0.851151        -0.849488   \n",
       "75%          -0.179170        -0.159501        -0.233472        -0.246678   \n",
       "max           1.218863         1.373409         1.244158         1.119674   \n",
       "\n",
       "       20210622-201127  \n",
       "count      2834.000000  \n",
       "mean         -0.906896  \n",
       "std           0.879002  \n",
       "min          -3.512614  \n",
       "25%          -1.550203  \n",
       "50%          -0.843045  \n",
       "75%          -0.213155  \n",
       "max           1.307637  \n",
       "\n",
       "[8 rows x 71 columns]"
      ]
     },
     "execution_count": 28,
     "metadata": {},
     "output_type": "execute_result"
    }
   ],
   "source": [
    "oofs.describe()"
   ]
  },
  {
   "cell_type": "code",
   "execution_count": 29,
   "metadata": {
    "ExecuteTime": {
     "end_time": "2021-06-23T08:18:57.154790Z",
     "start_time": "2021-06-23T08:18:57.152974Z"
    }
   },
   "outputs": [],
   "source": [
    "# oofs.loc[:, pred_cols].clip(oofs[\"target\"].min(), oofs[\"target\"].max(), inplace=True)"
   ]
  },
  {
   "cell_type": "code",
   "execution_count": 30,
   "metadata": {
    "ExecuteTime": {
     "end_time": "2021-06-23T08:18:57.185967Z",
     "start_time": "2021-06-23T08:18:57.155936Z"
    }
   },
   "outputs": [
    {
     "name": "stdout",
     "output_type": "stream",
     "text": [
      "Best score: 0.45310. Alpha 100.0\n"
     ]
    },
    {
     "data": {
      "text/plain": [
       "array([ 0.07693187,  0.05473947,  0.0311012 ,  0.04629127, -0.00946972,\n",
       "        0.06980849, -0.02032823,  0.01355776,  0.00282788,  0.0213994 ,\n",
       "        0.03526425,  0.038662  , -0.02675388,  0.02477635,  0.01629333,\n",
       "        0.09295597,  0.06612545,  0.05660214,  0.04691014,  0.03529006,\n",
       "       -0.0206085 ,  0.02058155,  0.05308793, -0.00254516,  0.03232767,\n",
       "        0.07188501,  0.06638274,  0.09952667,  0.01822891,  0.02264425,\n",
       "        0.03190747,  0.01418935, -0.00408689, -0.01586601, -0.00961604,\n",
       "        0.04679783,  0.05022922,  0.02148138, -0.01323999,  0.01537622,\n",
       "        0.02558618, -0.00218922,  0.02566216, -0.01470804,  0.00744406,\n",
       "        0.00486276, -0.00351111, -0.02011741, -0.0145257 ,  0.04033509,\n",
       "       -0.00981263, -0.08579986, -0.02371623, -0.00126307, -0.07334708,\n",
       "       -0.02167184,  0.0151274 , -0.01344225, -0.00376099,  0.03359482,\n",
       "        0.02633483,  0.0187744 , -0.02929953,  0.02497005, -0.0282889 ,\n",
       "       -0.01032366, -0.02355825,  0.01117318,  0.00672191])"
      ]
     },
     "execution_count": 30,
     "metadata": {},
     "output_type": "execute_result"
    }
   ],
   "source": [
    "reg = RidgeCV(alphas=(0.01, 0.05, 0.1, 0.5, 1.0, 5.0, 10.0, 50, 100, 500, 1000), normalize=False)\n",
    "reg.fit(oofs[pred_cols], oofs[\"target\"])\n",
    "print(f\"Best score: {np.sqrt(-reg.best_score_):0.5f}. Alpha {reg.alpha_}\")\n",
    "reg.coef_"
   ]
  },
  {
   "cell_type": "code",
   "execution_count": 31,
   "metadata": {
    "ExecuteTime": {
     "end_time": "2021-06-23T08:18:57.948975Z",
     "start_time": "2021-06-23T08:18:57.187169Z"
    }
   },
   "outputs": [
    {
     "data": {
      "image/png": "[encoded data removed]",
      "text/plain": [
       "<Figure size 792x648 with 2 Axes>"
      ]
     },
     "metadata": {
      "needs_background": "light"
     },
     "output_type": "display_data"
    }
   ],
   "source": [
    "corr = oofs[pred_cols].corr()\n",
    "\n",
    "mask = np.triu(np.ones_like(corr, dtype=bool))\n",
    "\n",
    "# Set up the matplotlib figure\n",
    "f, ax = plt.subplots(figsize=(11, 9))\n",
    "\n",
    "# Generate a custom diverging colormap\n",
    "cmap = sns.diverging_palette(230, 20, as_cmap=True)\n",
    "\n",
    "# Draw the heatmap with the mask and correct aspect ratio\n",
    "sns.heatmap(corr, mask=mask, cmap=cmap, vmin=0.9, vmax=1.0, # center=0,\n",
    "            square=True, linewidths=.5, cbar_kws={\"shrink\": .5});"
   ]
  },
  {
   "cell_type": "code",
   "execution_count": 32,
   "metadata": {
    "ExecuteTime": {
     "end_time": "2021-06-23T08:18:58.731278Z",
     "start_time": "2021-06-23T08:18:57.950151Z"
    }
   },
   "outputs": [
    {
     "data": {
      "image/png": "[encoded data removed]",
      "text/plain": [
       "<Figure size 1440x180 with 9 Axes>"
      ]
     },
     "metadata": {
      "needs_background": "light"
     },
     "output_type": "display_data"
    }
   ],
   "source": [
    "sns.pairplot(oofs, y_vars=[\"target\"], x_vars=[\"target\"] + pred_cols[::10]);"
   ]
  },
  {
   "cell_type": "code",
   "execution_count": 33,
   "metadata": {
    "ExecuteTime": {
     "end_time": "2021-06-23T08:18:59.757259Z",
     "start_time": "2021-06-23T08:18:58.732572Z"
    }
   },
   "outputs": [
    {
     "name": "stdout",
     "output_type": "stream",
     "text": [
      "Best score: 0.45284\n"
     ]
    }
   ],
   "source": [
    "scores = cross_val_score(\n",
    "#     LinearRegression(),\n",
    "    Ridge(alpha=100),\n",
    "#     KernelRidge(alpha=100, kernel=\"rbf\"),\n",
    "#     BaggingRegressor(n_estimators=100),\n",
    "#     Lasso(),\n",
    "    oofs[pred_cols],\n",
    "    oofs[\"target\"],\n",
    "    scoring=\"neg_mean_squared_error\",\n",
    "#     cv=LeaveOneOut(),\n",
    "    n_jobs=-1,\n",
    ")\n",
    "print(f\"Best score: {np.sqrt(np.mean(-scores)):0.5f}\")"
   ]
  },
  {
   "cell_type": "code",
   "execution_count": 34,
   "metadata": {
    "ExecuteTime": {
     "end_time": "2021-06-23T08:18:59.763473Z",
     "start_time": "2021-06-23T08:18:59.760692Z"
    }
   },
   "outputs": [],
   "source": [
    "# # reg = LassoCV(max_iter=5000, cv=LeaveOneOut(), n_jobs=-1)  # 0.45689\n",
    "# reg = ElasticNetCV(l1_ratio=[0.01, 0.05, .1, .5, .7, .9, .95, .99, 1], max_iter=5000, n_jobs=-1, tol=1e-5)  # 0.45619\n",
    "\n",
    "# reg.fit(oofs[pred_cols], oofs[\"target\"])\n",
    "# # print(f\"Best score: {np.sqrt(reg.mse_path_[-1].mean()):0.5f}\")\n",
    "# print(reg.l1_ratio_)\n",
    "\n",
    "# np.sqrt(reg.mse_path_[1, -1].mean())"
   ]
  },
  {
   "cell_type": "markdown",
   "metadata": {},
   "source": [
    "# Brute force model selection"
   ]
  },
  {
   "cell_type": "code",
   "execution_count": 35,
   "metadata": {
    "ExecuteTime": {
     "end_time": "2021-06-23T08:18:59.768932Z",
     "start_time": "2021-06-23T08:18:59.764615Z"
    }
   },
   "outputs": [],
   "source": [
    "# def powerset(iterable):\n",
    "#     \"powerset([1,2,3]) --> () (1,) (2,) (3,) (1,2) (1,3) (2,3) (1,2,3)\"\n",
    "#     s = list(iterable)  # allows duplicate elements\n",
    "#     return itertools.chain.from_iterable(itertools.combinations(s, r) for r in range(len(s)+1))\n",
    "\n",
    "# subsets = list(powerset(pred_cols))\n",
    "# len(subsets)"
   ]
  },
  {
   "cell_type": "code",
   "execution_count": 36,
   "metadata": {
    "ExecuteTime": {
     "end_time": "2021-06-23T08:18:59.776038Z",
     "start_time": "2021-06-23T08:18:59.770056Z"
    }
   },
   "outputs": [],
   "source": [
    "# best_score = 10\n",
    "# best_cols = None\n",
    "\n",
    "# for s in tqdm(subsets[1:]):\n",
    "#     reg = RidgeCV(alphas=(0.01, 0.05, 0.1, 0.5, 1.0, 5.0, 10.0, 50, 100, 500, 1000))\n",
    "#     reg.fit(oofs[list(s)], oofs[\"target\"])\n",
    "#     score = np.sqrt(-reg.best_score_)\n",
    "    \n",
    "#     if score < best_score:\n",
    "#         best_score = score\n",
    "#         best_cols = list(s)\n",
    "        \n",
    "# print(f\"Best score: {best_score:0.5f}\")\n",
    "# print(\"Best cols\", best_cols)"
   ]
  },
  {
   "cell_type": "code",
   "execution_count": 37,
   "metadata": {
    "ExecuteTime": {
     "end_time": "2021-06-23T08:18:59.780917Z",
     "start_time": "2021-06-23T08:18:59.777583Z"
    }
   },
   "outputs": [],
   "source": [
    "# ['model_1', 'model_2', 'model_4', 'model_5', 'model_6', 'model_7', 'model_8', 'model_9', 'model_11', 'model_13', 'model_16']"
   ]
  },
  {
   "cell_type": "markdown",
   "metadata": {},
   "source": [
    "# Hill climbing"
   ]
  },
  {
   "cell_type": "code",
   "execution_count": 38,
   "metadata": {
    "ExecuteTime": {
     "end_time": "2021-06-23T08:18:59.789252Z",
     "start_time": "2021-06-23T08:18:59.782462Z"
    }
   },
   "outputs": [],
   "source": [
    "def get_score(X, y):\n",
    "    #     reg = RidgeCV(alphas=(0.01, 0.05, 0.1, 0.5, 1.0, 5.0, 10.0, 50, 100, 500, 1000), normalize=True)\n",
    "    #     reg.fit(X, y)\n",
    "    #     return np.sqrt(-reg.best_score_)\n",
    "    reg = LassoCV(\n",
    "        max_iter=5000,\n",
    "        random_state=48,\n",
    "        n_jobs=-1,\n",
    "        normalize=True,\n",
    "#         cv=RepeatedKFold(random_state=48),\n",
    "    ).fit(X, y)\n",
    "    return np.sqrt(reg.mse_path_)[-1].mean()\n",
    "\n",
    "\n",
    "def averaging(X, y):\n",
    "    y_pred = X.mean(1)\n",
    "    return np.sqrt(mean_squared_error(y_pred, y))"
   ]
  },
  {
   "cell_type": "code",
   "execution_count": 39,
   "metadata": {
    "ExecuteTime": {
     "end_time": "2021-06-23T08:22:33.555464Z",
     "start_time": "2021-06-23T08:18:59.790867Z"
    }
   },
   "outputs": [
    {
     "name": "stdout",
     "output_type": "stream",
     "text": [
      "Initial 20210614-234025. Score 0.48016\n",
      "Added 20210616-041221. New best score 0.46539\n",
      "Added 20210617-135233. New best score 0.45897\n",
      "Added 20210615-225055. New best score 0.45676\n",
      "Added 20210618-030706. New best score 0.45552\n",
      "Added 20210619-035747. New best score 0.45460\n",
      "Added 20210614-173633. New best score 0.45343\n",
      "Added 20210616-060255. New best score 0.45300\n",
      "Added 20210619-004022. New best score 0.45254\n",
      "Added 20210616-132341. New best score 0.45195\n",
      "Added 20210617-102611. New best score 0.45151\n",
      "Added 20210618-223208. New best score 0.45106\n",
      "Added 20210615-094729. New best score 0.45082\n",
      "Added 20210615-234038. New best score 0.45062\n",
      "Added 20210618-092115. New best score 0.45047\n",
      "Added 20210616-003038. New best score 0.45039\n",
      "Added 20210616-075451. New best score 0.45033\n",
      "Added 20210615-105329. New best score 0.45028\n",
      "Added 20210617-232650. New best score 0.45023\n",
      "Added 20210618-183719. New best score 0.45022\n",
      "Added 20210622-152356. New best score 0.45021\n",
      "21 models selected\n"
     ]
    },
    {
     "data": {
      "text/plain": [
       "['20210614-234025',\n",
       " '20210616-041221',\n",
       " '20210617-135233',\n",
       " '20210615-225055',\n",
       " '20210618-030706',\n",
       " '20210619-035747',\n",
       " '20210614-173633',\n",
       " '20210616-060255',\n",
       " '20210619-004022',\n",
       " '20210616-132341',\n",
       " '20210617-102611',\n",
       " '20210618-223208',\n",
       " '20210615-094729',\n",
       " '20210615-234038',\n",
       " '20210618-092115',\n",
       " '20210616-003038',\n",
       " '20210616-075451',\n",
       " '20210615-105329',\n",
       " '20210617-232650',\n",
       " '20210618-183719',\n",
       " '20210622-152356']"
      ]
     },
     "execution_count": 39,
     "metadata": {},
     "output_type": "execute_result"
    }
   ],
   "source": [
    "candidates = model_folders.copy()\n",
    "\n",
    "best_score = np.inf\n",
    "selection = []\n",
    "# tol = 0.00001\n",
    "tol = 0\n",
    "y = oofs[\"target\"]\n",
    "\n",
    "# Find best initial model\n",
    "initial_scores = [np.sqrt(mean_squared_error(oofs[c], oofs[\"target\"])) for c in candidates]\n",
    "idx = np.argmin(initial_scores)\n",
    "best_score = initial_scores[idx]\n",
    "selection.append(candidates[idx])\n",
    "print(f\"Initial {candidates[idx]}. Score {best_score:0.5f}\")\n",
    "del candidates[idx]\n",
    "\n",
    "\n",
    "while True:\n",
    "    scores = [get_score(oofs[selection + [c]], y) for c in candidates]\n",
    "#     scores = [averaging(oofs[selection + [c]], y) for c in candidates]\n",
    "\n",
    "    idx = np.argmin(scores)\n",
    "    if scores[idx] < best_score - tol:\n",
    "        best_score = scores[idx]\n",
    "        selection.append(candidates[idx])\n",
    "        print(f\"Added {candidates[idx]}. New best score {best_score:0.5f}\")\n",
    "        del candidates[idx]\n",
    "    else:\n",
    "        break\n",
    "        \n",
    "print(len(selection), \"models selected\")\n",
    "        \n",
    "selection"
   ]
  },
  {
   "cell_type": "code",
   "execution_count": 17,
   "metadata": {
    "ExecuteTime": {
     "end_time": "2021-06-23T07:42:32.465697Z",
     "start_time": "2021-06-23T07:42:32.461968Z"
    }
   },
   "outputs": [],
   "source": [
    "model_folders_current = [\n",
    "    \"20210614-234025\",\n",
    "    \"20210616-041221\",\n",
    "    \"20210617-135233\",\n",
    "    \"20210615-225055\",\n",
    "    \"20210618-030706\",\n",
    "    \"20210614-173633\",\n",
    "    \"20210619-035747\",\n",
    "    \"20210617-120949\",\n",
    "    \"20210619-004022\",\n",
    "    \"20210616-132341\",\n",
    "    \"20210616-060255\",\n",
    "    \"20210618-223208\",\n",
    "    \"20210615-094729\",\n",
    "    \"20210615-234038\",\n",
    "    \"20210617-102611\",\n",
    "    \"20210619-014809\",\n",
    "    \"20210616-075451\",\n",
    "    \"20210618-092115\",\n",
    "    \"20210615-054256\",\n",
    "    \"20210615-105329\",\n",
    "    \"20210616-003038\",\n",
    "#     \"20210614-203831\",\n",
    "]\n",
    "\n",
    "model_folders_new = [\n",
    "    \"20210614-234025\",\n",
    "    \"20210616-041221\",\n",
    "    \"20210617-135233\",\n",
    "    \"20210615-225055\",\n",
    "    \"20210618-030706\",\n",
    "    \"20210619-035747\",\n",
    "    \"20210614-173633\",\n",
    "    \"20210616-060255\",\n",
    "    \"20210619-004022\",\n",
    "    \"20210616-132341\",\n",
    "    \"20210617-102611\",\n",
    "    \"20210618-223208\",\n",
    "    \"20210615-094729\",\n",
    "    \"20210615-234038\",\n",
    "    \"20210618-092115\",\n",
    "    \"20210616-003038\",\n",
    "    \"20210616-075451\",\n",
    "    \"20210615-105329\",\n",
    "    \"20210617-232650\",\n",
    "#     \"20210614-203831\",\n",
    "    \"20210618-183719\",\n",
    "    \"20210622-152356\",\n",
    "]\n",
    "\n",
    "model_folders_current = set(model_folders_current)\n",
    "model_folders_new = set(model_folders_new)"
   ]
  },
  {
   "cell_type": "code",
   "execution_count": 18,
   "metadata": {
    "ExecuteTime": {
     "end_time": "2021-06-23T07:42:32.475440Z",
     "start_time": "2021-06-23T07:42:32.466689Z"
    }
   },
   "outputs": [
    {
     "data": {
      "text/plain": [
       "{'20210617-232650', '20210618-183719', '20210622-152356'}"
      ]
     },
     "execution_count": 18,
     "metadata": {},
     "output_type": "execute_result"
    }
   ],
   "source": [
    "# Add these\n",
    "model_folders_new.difference(model_folders_current)"
   ]
  },
  {
   "cell_type": "code",
   "execution_count": 19,
   "metadata": {
    "ExecuteTime": {
     "end_time": "2021-06-23T07:42:32.481029Z",
     "start_time": "2021-06-23T07:42:32.477060Z"
    }
   },
   "outputs": [
    {
     "data": {
      "text/plain": [
       "{'20210615-054256', '20210617-120949', '20210619-014809'}"
      ]
     },
     "execution_count": 19,
     "metadata": {},
     "output_type": "execute_result"
    }
   ],
   "source": [
    "# Remove these\n",
    "model_folders_current.difference(model_folders_new)"
   ]
  },
  {
   "cell_type": "markdown",
   "metadata": {},
   "source": [
    "# Feature selection"
   ]
  },
  {
   "cell_type": "code",
   "execution_count": 20,
   "metadata": {
    "ExecuteTime": {
     "end_time": "2021-06-23T07:42:32.487516Z",
     "start_time": "2021-06-23T07:42:32.482219Z"
    }
   },
   "outputs": [],
   "source": [
    "from sklearn.feature_selection import RFECV, SequentialFeatureSelector"
   ]
  },
  {
   "cell_type": "code",
   "execution_count": 21,
   "metadata": {
    "ExecuteTime": {
     "end_time": "2021-06-23T07:47:47.271863Z",
     "start_time": "2021-06-23T07:42:32.488703Z"
    }
   },
   "outputs": [
    {
     "name": "stdout",
     "output_type": "stream",
     "text": [
      "35\n"
     ]
    },
    {
     "data": {
      "text/plain": [
       "array(['20210614-173633', '20210614-203831', '20210614-234025',\n",
       "       '20210615-094729', '20210615-105329', '20210615-130640',\n",
       "       '20210615-225055', '20210615-234038', '20210616-003038',\n",
       "       '20210616-041221', '20210616-060255', '20210616-075451',\n",
       "       '20210616-094506', '20210616-124738', '20210616-132341',\n",
       "       '20210617-102611', '20210617-135233', '20210617-232650',\n",
       "       '20210618-011405', '20210618-030706', '20210618-082756',\n",
       "       '20210618-092115', '20210618-144213', '20210618-183719',\n",
       "       '20210618-203441', '20210618-223208', '20210618-233614',\n",
       "       '20210619-004022', '20210619-025421', '20210619-035747',\n",
       "       '20210619-150740', '20210622-152356', '20210622-171312',\n",
       "       '20210622-181238', '20210622-201127'], dtype='<U15')"
      ]
     },
     "execution_count": 21,
     "metadata": {},
     "output_type": "execute_result"
    }
   ],
   "source": [
    "# estimator = RidgeCV(\n",
    "#     alphas=(0.01, 0.05, 0.1, 0.5, 1.0, 5.0, 10.0, 50, 100, 500, 1000), normalize=True\n",
    "# )\n",
    "estimator = LassoCV(max_iter=5000, random_state=48, n_jobs=-1, normalize=True)\n",
    "\n",
    "selector = SequentialFeatureSelector(\n",
    "    estimator,\n",
    "    scoring=\"neg_mean_squared_error\",\n",
    "    n_jobs=-1,\n",
    ")\n",
    "selector = selector.fit(oofs[pred_cols], oofs[\"target\"])\n",
    "print(selector.n_features_to_select_)\n",
    "\n",
    "pred_cols = np.array(pred_cols)\n",
    "pred_cols[selector.support_]"
   ]
  },
  {
   "cell_type": "code",
   "execution_count": 22,
   "metadata": {
    "ExecuteTime": {
     "end_time": "2021-06-23T07:48:35.929037Z",
     "start_time": "2021-06-23T07:47:47.273702Z"
    }
   },
   "outputs": [
    {
     "name": "stdout",
     "output_type": "stream",
     "text": [
      "Best score: 0.45224\n"
     ]
    }
   ],
   "source": [
    "scores = cross_val_score(\n",
    "    estimator,\n",
    "    oofs[pred_cols[selector.support_]],\n",
    "    oofs[\"target\"],\n",
    "    scoring=\"neg_mean_squared_error\",\n",
    "    cv=LeaveOneOut(),\n",
    "    n_jobs=-1,\n",
    ")\n",
    "print(f\"Best score: {np.sqrt(np.mean(-scores)):0.5f}\")"
   ]
  },
  {
   "cell_type": "markdown",
   "metadata": {},
   "source": [
    "# GBT"
   ]
  },
  {
   "cell_type": "code",
   "execution_count": 23,
   "metadata": {
    "ExecuteTime": {
     "end_time": "2021-06-23T07:48:35.938284Z",
     "start_time": "2021-06-23T07:48:35.930796Z"
    }
   },
   "outputs": [],
   "source": [
    "from sklearn.experimental import enable_hist_gradient_boosting\n",
    "from sklearn.ensemble import HistGradientBoostingRegressor"
   ]
  },
  {
   "cell_type": "code",
   "execution_count": 24,
   "metadata": {
    "ExecuteTime": {
     "end_time": "2021-06-23T07:48:36.906054Z",
     "start_time": "2021-06-23T07:48:35.939499Z"
    }
   },
   "outputs": [
    {
     "name": "stdout",
     "output_type": "stream",
     "text": [
      "Fold 0 RMSE: 0.45051\n",
      "Fold 1 RMSE: 0.45226\n",
      "Fold 2 RMSE: 0.45614\n",
      "Fold 3 RMSE: 0.47124\n",
      "Fold 4 RMSE: 0.44248\n",
      "Final RMSE: 0.45452\n"
     ]
    }
   ],
   "source": [
    "kf = KFold(shuffle=True, random_state=48)\n",
    "scores = []\n",
    "\n",
    "for fold, (trn_idx, val_idx) in enumerate(kf.split(oofs[pred_cols], oofs[\"target\"])):\n",
    "    X_train, y_train = oofs.loc[trn_idx, pred_cols], oofs.loc[trn_idx, \"target\"]\n",
    "    X_valid, y_valid = oofs.loc[val_idx, pred_cols], oofs.loc[val_idx, \"target\"]\n",
    "\n",
    "#     reg = HistGradientBoostingRegressor(\n",
    "#         learning_rate=0.01,\n",
    "#         max_iter=1000,\n",
    "#         max_leaf_nodes=15,\n",
    "#         l2_regularization=0.0,\n",
    "#         early_stopping=True,\n",
    "#         n_iter_no_change=100,\n",
    "#     )\n",
    "#     reg = GaussianProcessRegressor(normalize_y=True, alpha=0.4)\n",
    "#     reg = MLPRegressor(max_iter=20000, early_stopping=True, n_iter_no_change=100, alpha=0.001)\n",
    "#     reg = SVR(kernel=\"linear\", C=0.01, epsilon=0.001)\n",
    "#     reg = TheilSenRegressor(n_jobs=-1)\n",
    "    reg = RANSACRegressor(base_estimator=Ridge(alpha=50), loss=\"squared_loss\", max_trials=1000)\n",
    "    reg.fit(X_train, y_train)\n",
    "    y_pred = reg.predict(X_valid)\n",
    "    score = np.sqrt(mean_squared_error(y_pred, y_valid))\n",
    "    scores.append(score)\n",
    "    print(f\"Fold {fold} RMSE: {score:0.5f}\")\n",
    "print(f\"Final RMSE: {np.mean(scores):0.5f}\")"
   ]
  },
  {
   "cell_type": "code",
   "execution_count": null,
   "metadata": {},
   "outputs": [],
   "source": []
  }
 ],
 "metadata": {
  "kernelspec": {
   "display_name": "Python 3.8.8 64-bit ('kaggle': conda)",
   "language": "python",
   "name": "python388jvsc74a57bd0324064526588904db53d8c1754501a1e17277e16e25f64624bf6abfe73e224f9"
  },
  "language_info": {
   "codemirror_mode": {
    "name": "ipython",
    "version": 3
   },
   "file_extension": ".py",
   "mimetype": "text/x-python",
   "name": "python",
   "nbconvert_exporter": "python",
   "pygments_lexer": "ipython3",
   "version": "3.8.8"
  }
 },
 "nbformat": 4,
 "nbformat_minor": 4
}
