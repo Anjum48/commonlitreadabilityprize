{
 "cells": [
  {
   "cell_type": "code",
   "execution_count": 19,
   "metadata": {
    "ExecuteTime": {
     "end_time": "2021-06-16T13:41:05.497539Z",
     "start_time": "2021-06-16T13:41:05.492144Z"
    }
   },
   "outputs": [],
   "source": [
    "from sklearn.linear_model import (\n",
    "    LinearRegression,\n",
    "    RidgeCV,\n",
    "    BayesianRidge,\n",
    "    Ridge,\n",
    "    ElasticNetCV,\n",
    "    ElasticNet,\n",
    "    Lasso,\n",
    "    LassoCV,\n",
    "    LarsCV,\n",
    "    SGDRegressor\n",
    ")\n",
    "from sklearn.ensemble import BaggingRegressor, RandomForestRegressor\n",
    "from sklearn.model_selection import cross_val_score, LeaveOneOut, KFold\n",
    "from sklearn.gaussian_process import GaussianProcessRegressor\n",
    "from sklearn.metrics import mean_squared_error\n",
    "from sklearn.preprocessing import PolynomialFeatures\n",
    "import pandas as pd\n",
    "import numpy as np\n",
    "import itertools\n",
    "import seaborn as sns\n",
    "import matplotlib.pyplot as plt\n",
    "from tqdm.notebook import tqdm\n",
    "from pathlib import Path\n",
    "\n",
    "INPUT_PATH = Path(\"/mnt/storage_dimm2/kaggle_data/commonlitreadabilityprize\")\n",
    "OUTPUT_PATH = Path(\"/mnt/storage_dimm2/kaggle_output/commonlitreadabilityprize\")"
   ]
  },
  {
   "cell_type": "code",
   "execution_count": 69,
   "metadata": {
    "ExecuteTime": {
     "end_time": "2021-06-17T09:08:34.325734Z",
     "start_time": "2021-06-17T09:08:34.318820Z"
    }
   },
   "outputs": [],
   "source": [
    "# model_folders = [\n",
    "#     # complex-heron-of-science - roberta-base\n",
    "#     \"20210609-171109\",\n",
    "#     \"20210609-174639\",\n",
    "#     \"20210609-182121\",\n",
    "#     \"20210609-192843\",\n",
    "#     \"20210609-200242\",\n",
    "#     # impetuous-marvellous-cockle - roberta-large\n",
    "#     \"20210608-233655\",\n",
    "#     \"20210609-004922\",\n",
    "#     \"20210609-020213\",\n",
    "#     \"20210609-205046\",\n",
    "#     \"20210609-220344\",\n",
    "#     # zippy-caped-leech - albert-large\n",
    "#     \"20210609-125306\",\n",
    "#     \"20210609-141352\",\n",
    "#     \"20210609-154233\",\n",
    "#     \"20210610-000227\",\n",
    "#     \"20210610-013100\",\n",
    "#     # armored-cobalt-crow - distill roberta\n",
    "#     \"20210610-074205\",\n",
    "#     \"20210610-080716\",\n",
    "#     \"20210610-083206\",\n",
    "#     \"20210610-085718\",\n",
    "#     \"20210610-093912\",\n",
    "#     # big-slug-of-tranquility - funnel transformer\n",
    "#     \"20210610-100607\",\n",
    "#     \"20210610-111551\",\n",
    "#     \"20210610-122301\",\n",
    "#     \"20210610-133140\",\n",
    "#     \"20210610-144044\",\n",
    "#     # nocturnal-winged-lionfish - bert-base-uncased\n",
    "#     \"20210610-184414\",\n",
    "#     \"20210610-191826\",\n",
    "#     \"20210610-195230\",\n",
    "#     \"20210610-202640\",\n",
    "#     # adaptable-scallop-of-anger - roberta-base (hidden)\n",
    "#     \"20210610-222705\",\n",
    "#     \"20210610-230256\",\n",
    "#     \"20210610-233847\",\n",
    "#     \"20210611-001430\",\n",
    "#     \"20210611-005055\",\n",
    "#     # fluffy-dandelion-skua - roberta-large (hidden)\n",
    "#     \"20210611-012655\",\n",
    "#     \"20210611-024254\",\n",
    "#     \"20210611-035830\",\n",
    "#     \"20210611-051501\",\n",
    "#     \"20210611-063430\",\n",
    "#     # gregarious-classic-yak - albert-large (hidden)\n",
    "#     \"20210611-080150\",\n",
    "#     \"20210611-092625\",\n",
    "#     \"20210611-105105\",\n",
    "#     \"20210611-121556\",\n",
    "#     \"20210611-134040\",\n",
    "#     # serious-outrageous-caribou - deberta-base\n",
    "#     \"20210611-151313\",\n",
    "#     \"20210611-155942\",  # This seed seems amazing\n",
    "#     \"20210611-164611\",\n",
    "#     \"20210611-173302\",\n",
    "#     \"20210611-182030\",\n",
    "#     # ostrich-of-abstract-art - deberta-large\n",
    "#     \"20210611-191919\",\n",
    "#     \"20210611-212749\",\n",
    "#     \"20210611-233646\",\n",
    "#     \"20210612-014457\",\n",
    "#     \"20210612-035134\",\n",
    "# ]\n",
    "\n",
    "model_folders = [\n",
    "    # cherubic-nifty-serval - deberta-large\n",
    "    \"20210614-173633\",\n",
    "    \"20210614-203831\",\n",
    "    \"20210614-234025\",\n",
    "    \"20210615-024138\",\n",
    "    \"20210615-054256\",\n",
    "    # scrupulous-mink-of-amplitude - deberta-base\n",
    "    \"20210615-084357\",\n",
    "    \"20210615-094729\",\n",
    "    \"20210615-105329\",\n",
    "    \"20210615-120001\",\n",
    "    \"20210615-130640\",\n",
    "    # hilarious-daffodil-turtle - funnel (failed), but keep them in just in case\n",
    "    \"20210615-141341\",\n",
    "    \"20210615-154843\",\n",
    "    \"20210615-172313\",\n",
    "    \"20210615-190040\",\n",
    "    # notorious-sticky-gibbon - roberta-base (with hidden)\n",
    "    \"20210615-220146\",\n",
    "    \"20210615-225055\",\n",
    "    \"20210615-234038\",\n",
    "    \"20210616-003038\",\n",
    "    \"20210616-012048\",\n",
    "    # fortunate-cherry-mandrill - roberta-large\n",
    "    \"20210616-021135\",\n",
    "    \"20210616-041221\",\n",
    "    \"20210616-060255\",\n",
    "    \"20210616-075451\",\n",
    "    \"20210616-094506\",\n",
    "    # fortunate-cherry-mandrill - funnel (no swa) (failed)\n",
    "    \"20210616-093026\",\n",
    "    \"20210616-110644\",\n",
    "    \"20210616-124320\",\n",
    "    \"20210616-142115\",\n",
    "    # mottled-certain-caracal - distilroberta-base\n",
    "    \"20210616-113626\",\n",
    "    \"20210616-121203\",\n",
    "    \"20210616-124738\",\n",
    "    \"20210616-132341\",\n",
    "    \"20210616-140300\",\n",
    "    \n",
    "    # proud-smilodon-from-mars - funnel low LR\n",
    "#     \"20210616-230232\",\n",
    "#     \"20210617-004504\",\n",
    "#     \"20210617-022543\",\n",
    "#     \"20210617-040816\",\n",
    "#     \"20210617-055118\",\n",
    "    # gorgeous-rapid-camel - Albert low LR\n",
    "    \"20210616-230221\",\n",
    "#     \"20210617-010530\",\n",
    "#     \"20210617-030914\",\n",
    "#     \"20210617-051322\",\n",
    "#     \"20210617-071738\",\n",
    "]\n",
    "\n",
    "dataset_paths = [OUTPUT_PATH / f for f in model_folders]"
   ]
  },
  {
   "cell_type": "code",
   "execution_count": 70,
   "metadata": {
    "ExecuteTime": {
     "end_time": "2021-06-17T09:08:34.591126Z",
     "start_time": "2021-06-17T09:08:34.576026Z"
    }
   },
   "outputs": [
    {
     "data": {
      "text/plain": [
       "(39, 37)"
      ]
     },
     "execution_count": 70,
     "metadata": {},
     "output_type": "execute_result"
    }
   ],
   "source": [
    "mpaths, oof_paths = [], []\n",
    "for p in dataset_paths:\n",
    "    mpaths.append(sorted(list(p.glob(f\"*/*/*.ckpt\"))))\n",
    "    oof_paths.extend(sorted(list(p.glob(f\"*.csv\"))))\n",
    "    \n",
    "len(model_folders), len(oof_paths)"
   ]
  },
  {
   "cell_type": "code",
   "execution_count": 71,
   "metadata": {
    "ExecuteTime": {
     "end_time": "2021-06-17T09:08:35.817338Z",
     "start_time": "2021-06-17T09:08:34.831392Z"
    }
   },
   "outputs": [],
   "source": [
    "oofs = pd.read_csv(INPUT_PATH / \"train.csv\", usecols=[\"id\", \"target\", \"standard_error\"]).sort_values(\n",
    "        by=\"id\"\n",
    "    )\n",
    "for i, (p, f) in enumerate(zip(oof_paths, model_folders)):\n",
    "    x = pd.read_csv(p).sort_values(by=\"id\")\n",
    "    oofs[f] = x[\"prediction\"].values\n",
    "\n",
    "# pred_cols = [f\"model_{i}\" for i in range(len(mpaths))]\n",
    "pred_cols = model_folders\n",
    "    \n",
    "# oofs.head()"
   ]
  },
  {
   "cell_type": "code",
   "execution_count": 72,
   "metadata": {
    "ExecuteTime": {
     "end_time": "2021-06-17T09:08:36.036464Z",
     "start_time": "2021-06-17T09:08:36.024437Z"
    }
   },
   "outputs": [
    {
     "ename": "KeyError",
     "evalue": "\"['20210617-055118', '20210616-230221'] not in index\"",
     "output_type": "error",
     "traceback": [
      "\u001b[0;31m---------------------------------------------------------------------------\u001b[0m",
      "\u001b[0;31mKeyError\u001b[0m                                  Traceback (most recent call last)",
      "\u001b[0;32m<ipython-input-72-aed0e01ff95a>\u001b[0m in \u001b[0;36m<module>\u001b[0;34m\u001b[0m\n\u001b[1;32m      1\u001b[0m \u001b[0mreg\u001b[0m \u001b[0;34m=\u001b[0m \u001b[0mRidgeCV\u001b[0m\u001b[0;34m(\u001b[0m\u001b[0malphas\u001b[0m\u001b[0;34m=\u001b[0m\u001b[0;34m(\u001b[0m\u001b[0;36m0.01\u001b[0m\u001b[0;34m,\u001b[0m \u001b[0;36m0.05\u001b[0m\u001b[0;34m,\u001b[0m \u001b[0;36m0.1\u001b[0m\u001b[0;34m,\u001b[0m \u001b[0;36m0.5\u001b[0m\u001b[0;34m,\u001b[0m \u001b[0;36m1.0\u001b[0m\u001b[0;34m,\u001b[0m \u001b[0;36m5.0\u001b[0m\u001b[0;34m,\u001b[0m \u001b[0;36m10.0\u001b[0m\u001b[0;34m,\u001b[0m \u001b[0;36m50\u001b[0m\u001b[0;34m,\u001b[0m \u001b[0;36m100\u001b[0m\u001b[0;34m,\u001b[0m \u001b[0;36m500\u001b[0m\u001b[0;34m,\u001b[0m \u001b[0;36m1000\u001b[0m\u001b[0;34m)\u001b[0m\u001b[0;34m)\u001b[0m\u001b[0;34m\u001b[0m\u001b[0;34m\u001b[0m\u001b[0m\n\u001b[0;32m----> 2\u001b[0;31m \u001b[0mreg\u001b[0m\u001b[0;34m.\u001b[0m\u001b[0mfit\u001b[0m\u001b[0;34m(\u001b[0m\u001b[0moofs\u001b[0m\u001b[0;34m[\u001b[0m\u001b[0mpred_cols\u001b[0m\u001b[0;34m]\u001b[0m\u001b[0;34m,\u001b[0m \u001b[0moofs\u001b[0m\u001b[0;34m[\u001b[0m\u001b[0;34m\"target\"\u001b[0m\u001b[0;34m]\u001b[0m\u001b[0;34m)\u001b[0m\u001b[0;34m\u001b[0m\u001b[0;34m\u001b[0m\u001b[0m\n\u001b[0m\u001b[1;32m      3\u001b[0m \u001b[0mprint\u001b[0m\u001b[0;34m(\u001b[0m\u001b[0;34mf\"Best score: {np.sqrt(-reg.best_score_):0.5f}. Alpha {reg.alpha_}\"\u001b[0m\u001b[0;34m)\u001b[0m\u001b[0;34m\u001b[0m\u001b[0;34m\u001b[0m\u001b[0m\n\u001b[1;32m      4\u001b[0m \u001b[0mreg\u001b[0m\u001b[0;34m.\u001b[0m\u001b[0mcoef_\u001b[0m\u001b[0;34m\u001b[0m\u001b[0;34m\u001b[0m\u001b[0m\n",
      "\u001b[0;32m~/anaconda3/envs/kaggle/lib/python3.8/site-packages/pandas/core/frame.py\u001b[0m in \u001b[0;36m__getitem__\u001b[0;34m(self, key)\u001b[0m\n\u001b[1;32m   3028\u001b[0m             \u001b[0;32mif\u001b[0m \u001b[0mis_iterator\u001b[0m\u001b[0;34m(\u001b[0m\u001b[0mkey\u001b[0m\u001b[0;34m)\u001b[0m\u001b[0;34m:\u001b[0m\u001b[0;34m\u001b[0m\u001b[0;34m\u001b[0m\u001b[0m\n\u001b[1;32m   3029\u001b[0m                 \u001b[0mkey\u001b[0m \u001b[0;34m=\u001b[0m \u001b[0mlist\u001b[0m\u001b[0;34m(\u001b[0m\u001b[0mkey\u001b[0m\u001b[0;34m)\u001b[0m\u001b[0;34m\u001b[0m\u001b[0;34m\u001b[0m\u001b[0m\n\u001b[0;32m-> 3030\u001b[0;31m             \u001b[0mindexer\u001b[0m \u001b[0;34m=\u001b[0m \u001b[0mself\u001b[0m\u001b[0;34m.\u001b[0m\u001b[0mloc\u001b[0m\u001b[0;34m.\u001b[0m\u001b[0m_get_listlike_indexer\u001b[0m\u001b[0;34m(\u001b[0m\u001b[0mkey\u001b[0m\u001b[0;34m,\u001b[0m \u001b[0maxis\u001b[0m\u001b[0;34m=\u001b[0m\u001b[0;36m1\u001b[0m\u001b[0;34m,\u001b[0m \u001b[0mraise_missing\u001b[0m\u001b[0;34m=\u001b[0m\u001b[0;32mTrue\u001b[0m\u001b[0;34m)\u001b[0m\u001b[0;34m[\u001b[0m\u001b[0;36m1\u001b[0m\u001b[0;34m]\u001b[0m\u001b[0;34m\u001b[0m\u001b[0;34m\u001b[0m\u001b[0m\n\u001b[0m\u001b[1;32m   3031\u001b[0m \u001b[0;34m\u001b[0m\u001b[0m\n\u001b[1;32m   3032\u001b[0m         \u001b[0;31m# take() does not accept boolean indexers\u001b[0m\u001b[0;34m\u001b[0m\u001b[0;34m\u001b[0m\u001b[0;34m\u001b[0m\u001b[0m\n",
      "\u001b[0;32m~/anaconda3/envs/kaggle/lib/python3.8/site-packages/pandas/core/indexing.py\u001b[0m in \u001b[0;36m_get_listlike_indexer\u001b[0;34m(self, key, axis, raise_missing)\u001b[0m\n\u001b[1;32m   1264\u001b[0m             \u001b[0mkeyarr\u001b[0m\u001b[0;34m,\u001b[0m \u001b[0mindexer\u001b[0m\u001b[0;34m,\u001b[0m \u001b[0mnew_indexer\u001b[0m \u001b[0;34m=\u001b[0m \u001b[0max\u001b[0m\u001b[0;34m.\u001b[0m\u001b[0m_reindex_non_unique\u001b[0m\u001b[0;34m(\u001b[0m\u001b[0mkeyarr\u001b[0m\u001b[0;34m)\u001b[0m\u001b[0;34m\u001b[0m\u001b[0;34m\u001b[0m\u001b[0m\n\u001b[1;32m   1265\u001b[0m \u001b[0;34m\u001b[0m\u001b[0m\n\u001b[0;32m-> 1266\u001b[0;31m         \u001b[0mself\u001b[0m\u001b[0;34m.\u001b[0m\u001b[0m_validate_read_indexer\u001b[0m\u001b[0;34m(\u001b[0m\u001b[0mkeyarr\u001b[0m\u001b[0;34m,\u001b[0m \u001b[0mindexer\u001b[0m\u001b[0;34m,\u001b[0m \u001b[0maxis\u001b[0m\u001b[0;34m,\u001b[0m \u001b[0mraise_missing\u001b[0m\u001b[0;34m=\u001b[0m\u001b[0mraise_missing\u001b[0m\u001b[0;34m)\u001b[0m\u001b[0;34m\u001b[0m\u001b[0;34m\u001b[0m\u001b[0m\n\u001b[0m\u001b[1;32m   1267\u001b[0m         \u001b[0;32mreturn\u001b[0m \u001b[0mkeyarr\u001b[0m\u001b[0;34m,\u001b[0m \u001b[0mindexer\u001b[0m\u001b[0;34m\u001b[0m\u001b[0;34m\u001b[0m\u001b[0m\n\u001b[1;32m   1268\u001b[0m \u001b[0;34m\u001b[0m\u001b[0m\n",
      "\u001b[0;32m~/anaconda3/envs/kaggle/lib/python3.8/site-packages/pandas/core/indexing.py\u001b[0m in \u001b[0;36m_validate_read_indexer\u001b[0;34m(self, key, indexer, axis, raise_missing)\u001b[0m\n\u001b[1;32m   1314\u001b[0m             \u001b[0;32mif\u001b[0m \u001b[0mraise_missing\u001b[0m\u001b[0;34m:\u001b[0m\u001b[0;34m\u001b[0m\u001b[0;34m\u001b[0m\u001b[0m\n\u001b[1;32m   1315\u001b[0m                 \u001b[0mnot_found\u001b[0m \u001b[0;34m=\u001b[0m \u001b[0mlist\u001b[0m\u001b[0;34m(\u001b[0m\u001b[0mset\u001b[0m\u001b[0;34m(\u001b[0m\u001b[0mkey\u001b[0m\u001b[0;34m)\u001b[0m \u001b[0;34m-\u001b[0m \u001b[0mset\u001b[0m\u001b[0;34m(\u001b[0m\u001b[0max\u001b[0m\u001b[0;34m)\u001b[0m\u001b[0;34m)\u001b[0m\u001b[0;34m\u001b[0m\u001b[0;34m\u001b[0m\u001b[0m\n\u001b[0;32m-> 1316\u001b[0;31m                 \u001b[0;32mraise\u001b[0m \u001b[0mKeyError\u001b[0m\u001b[0;34m(\u001b[0m\u001b[0;34mf\"{not_found} not in index\"\u001b[0m\u001b[0;34m)\u001b[0m\u001b[0;34m\u001b[0m\u001b[0;34m\u001b[0m\u001b[0m\n\u001b[0m\u001b[1;32m   1317\u001b[0m \u001b[0;34m\u001b[0m\u001b[0m\n\u001b[1;32m   1318\u001b[0m             \u001b[0mnot_found\u001b[0m \u001b[0;34m=\u001b[0m \u001b[0mkey\u001b[0m\u001b[0;34m[\u001b[0m\u001b[0mmissing_mask\u001b[0m\u001b[0;34m]\u001b[0m\u001b[0;34m\u001b[0m\u001b[0;34m\u001b[0m\u001b[0m\n",
      "\u001b[0;31mKeyError\u001b[0m: \"['20210617-055118', '20210616-230221'] not in index\""
     ]
    }
   ],
   "source": [
    "reg = RidgeCV(alphas=(0.01, 0.05, 0.1, 0.5, 1.0, 5.0, 10.0, 50, 100, 500, 1000))\n",
    "reg.fit(oofs[pred_cols], oofs[\"target\"])\n",
    "print(f\"Best score: {np.sqrt(-reg.best_score_):0.5f}. Alpha {reg.alpha_}\")\n",
    "reg.coef_"
   ]
  },
  {
   "cell_type": "code",
   "execution_count": null,
   "metadata": {
    "ExecuteTime": {
     "end_time": "2021-06-17T09:07:13.082933Z",
     "start_time": "2021-06-17T09:07:12.735Z"
    }
   },
   "outputs": [],
   "source": [
    "corr = oofs[pred_cols].corr()\n",
    "\n",
    "mask = np.triu(np.ones_like(corr, dtype=bool))\n",
    "\n",
    "# Set up the matplotlib figure\n",
    "f, ax = plt.subplots(figsize=(11, 9))\n",
    "\n",
    "# Generate a custom diverging colormap\n",
    "cmap = sns.diverging_palette(230, 20, as_cmap=True)\n",
    "\n",
    "# Draw the heatmap with the mask and correct aspect ratio\n",
    "sns.heatmap(corr, mask=mask, cmap=cmap, vmin=0.9, vmax=1.0, # center=0,\n",
    "            square=True, linewidths=.5, cbar_kws={\"shrink\": .5});"
   ]
  },
  {
   "cell_type": "code",
   "execution_count": null,
   "metadata": {
    "ExecuteTime": {
     "end_time": "2021-06-17T09:07:13.083550Z",
     "start_time": "2021-06-17T09:07:13.080Z"
    }
   },
   "outputs": [],
   "source": [
    "oofs.describe()"
   ]
  },
  {
   "cell_type": "code",
   "execution_count": null,
   "metadata": {
    "ExecuteTime": {
     "end_time": "2021-06-17T09:07:13.163638Z",
     "start_time": "2021-06-17T09:07:13.382Z"
    }
   },
   "outputs": [],
   "source": [
    "scores = cross_val_score(\n",
    "#     LinearRegression(),\n",
    "    Ridge(alpha=100),\n",
    "#     BaggingRegressor(n_estimators=100),\n",
    "    oofs[pred_cols],\n",
    "    oofs[\"target\"],\n",
    "    scoring=\"neg_mean_squared_error\",\n",
    "#     cv=LeaveOneOut(),\n",
    "    n_jobs=-1,\n",
    ")\n",
    "print(f\"Best score: {np.sqrt(np.mean(-scores)):0.5f}\")"
   ]
  },
  {
   "cell_type": "code",
   "execution_count": 57,
   "metadata": {
    "ExecuteTime": {
     "end_time": "2021-06-17T09:07:13.752611Z",
     "start_time": "2021-06-17T09:07:13.750070Z"
    }
   },
   "outputs": [],
   "source": [
    "# # reg = LassoCV(max_iter=5000, cv=LeaveOneOut(), n_jobs=-1)  # 0.45689\n",
    "# reg = ElasticNetCV(l1_ratio=[0.01, 0.05, .1, .5, .7, .9, .95, .99, 1], max_iter=5000, n_jobs=-1, tol=1e-5)  # 0.45619\n",
    "\n",
    "# reg.fit(oofs[pred_cols], oofs[\"target\"])\n",
    "# # print(f\"Best score: {np.sqrt(reg.mse_path_[-1].mean()):0.5f}\")\n",
    "# print(reg.l1_ratio_)\n",
    "\n",
    "# np.sqrt(reg.mse_path_[1, -1].mean())"
   ]
  },
  {
   "cell_type": "markdown",
   "metadata": {},
   "source": [
    "# Brute force model selection"
   ]
  },
  {
   "cell_type": "code",
   "execution_count": 58,
   "metadata": {
    "ExecuteTime": {
     "end_time": "2021-06-17T09:07:14.337232Z",
     "start_time": "2021-06-17T09:07:14.334601Z"
    }
   },
   "outputs": [],
   "source": [
    "# def powerset(iterable):\n",
    "#     \"powerset([1,2,3]) --> () (1,) (2,) (3,) (1,2) (1,3) (2,3) (1,2,3)\"\n",
    "#     s = list(iterable)  # allows duplicate elements\n",
    "#     return itertools.chain.from_iterable(itertools.combinations(s, r) for r in range(len(s)+1))\n",
    "\n",
    "# subsets = list(powerset(pred_cols))\n",
    "# len(subsets)"
   ]
  },
  {
   "cell_type": "code",
   "execution_count": 59,
   "metadata": {
    "ExecuteTime": {
     "end_time": "2021-06-17T09:07:14.607306Z",
     "start_time": "2021-06-17T09:07:14.604394Z"
    }
   },
   "outputs": [],
   "source": [
    "# best_score = 10\n",
    "# best_cols = None\n",
    "\n",
    "# for s in tqdm(subsets[1:]):\n",
    "#     reg = RidgeCV(alphas=(0.01, 0.05, 0.1, 0.5, 1.0, 5.0, 10.0, 50, 100, 500, 1000))\n",
    "#     reg.fit(oofs[list(s)], oofs[\"target\"])\n",
    "#     score = np.sqrt(-reg.best_score_)\n",
    "    \n",
    "#     if score < best_score:\n",
    "#         best_score = score\n",
    "#         best_cols = list(s)\n",
    "        \n",
    "# print(f\"Best score: {best_score:0.5f}\")\n",
    "# print(\"Best cols\", best_cols)"
   ]
  },
  {
   "cell_type": "code",
   "execution_count": 60,
   "metadata": {
    "ExecuteTime": {
     "end_time": "2021-06-17T09:07:14.871160Z",
     "start_time": "2021-06-17T09:07:14.868720Z"
    }
   },
   "outputs": [],
   "source": [
    "# ['model_1', 'model_2', 'model_4', 'model_5', 'model_6', 'model_7', 'model_8', 'model_9', 'model_11', 'model_13', 'model_16']"
   ]
  },
  {
   "cell_type": "markdown",
   "metadata": {},
   "source": [
    "# Hill climbing"
   ]
  },
  {
   "cell_type": "code",
   "execution_count": 61,
   "metadata": {
    "ExecuteTime": {
     "end_time": "2021-06-17T09:07:15.455269Z",
     "start_time": "2021-06-17T09:07:15.452477Z"
    }
   },
   "outputs": [],
   "source": [
    "def get_score(X, y):\n",
    "    reg = RidgeCV(alphas=(0.01, 0.05, 0.1, 0.5, 1.0, 5.0, 10.0, 50, 100, 500, 1000))\n",
    "    reg.fit(X, y)\n",
    "    return np.sqrt(-reg.best_score_)"
   ]
  },
  {
   "cell_type": "code",
   "execution_count": 62,
   "metadata": {
    "ExecuteTime": {
     "end_time": "2021-06-17T09:07:15.704210Z",
     "start_time": "2021-06-17T09:07:15.668440Z"
    }
   },
   "outputs": [
    {
     "ename": "KeyError",
     "evalue": "'20210617-051322'",
     "output_type": "error",
     "traceback": [
      "\u001b[0;31m---------------------------------------------------------------------------\u001b[0m",
      "\u001b[0;31mKeyError\u001b[0m                                  Traceback (most recent call last)",
      "\u001b[0;32m~/anaconda3/envs/kaggle/lib/python3.8/site-packages/pandas/core/indexes/base.py\u001b[0m in \u001b[0;36mget_loc\u001b[0;34m(self, key, method, tolerance)\u001b[0m\n\u001b[1;32m   3079\u001b[0m             \u001b[0;32mtry\u001b[0m\u001b[0;34m:\u001b[0m\u001b[0;34m\u001b[0m\u001b[0;34m\u001b[0m\u001b[0m\n\u001b[0;32m-> 3080\u001b[0;31m                 \u001b[0;32mreturn\u001b[0m \u001b[0mself\u001b[0m\u001b[0;34m.\u001b[0m\u001b[0m_engine\u001b[0m\u001b[0;34m.\u001b[0m\u001b[0mget_loc\u001b[0m\u001b[0;34m(\u001b[0m\u001b[0mcasted_key\u001b[0m\u001b[0;34m)\u001b[0m\u001b[0;34m\u001b[0m\u001b[0;34m\u001b[0m\u001b[0m\n\u001b[0m\u001b[1;32m   3081\u001b[0m             \u001b[0;32mexcept\u001b[0m \u001b[0mKeyError\u001b[0m \u001b[0;32mas\u001b[0m \u001b[0merr\u001b[0m\u001b[0;34m:\u001b[0m\u001b[0;34m\u001b[0m\u001b[0;34m\u001b[0m\u001b[0m\n",
      "\u001b[0;32mpandas/_libs/index.pyx\u001b[0m in \u001b[0;36mpandas._libs.index.IndexEngine.get_loc\u001b[0;34m()\u001b[0m\n",
      "\u001b[0;32mpandas/_libs/index.pyx\u001b[0m in \u001b[0;36mpandas._libs.index.IndexEngine.get_loc\u001b[0;34m()\u001b[0m\n",
      "\u001b[0;32mpandas/_libs/hashtable_class_helper.pxi\u001b[0m in \u001b[0;36mpandas._libs.hashtable.PyObjectHashTable.get_item\u001b[0;34m()\u001b[0m\n",
      "\u001b[0;32mpandas/_libs/hashtable_class_helper.pxi\u001b[0m in \u001b[0;36mpandas._libs.hashtable.PyObjectHashTable.get_item\u001b[0;34m()\u001b[0m\n",
      "\u001b[0;31mKeyError\u001b[0m: '20210617-051322'",
      "\nThe above exception was the direct cause of the following exception:\n",
      "\u001b[0;31mKeyError\u001b[0m                                  Traceback (most recent call last)",
      "\u001b[0;32m<ipython-input-62-90e2b006ac4c>\u001b[0m in \u001b[0;36m<module>\u001b[0;34m\u001b[0m\n\u001b[1;32m      8\u001b[0m \u001b[0;34m\u001b[0m\u001b[0m\n\u001b[1;32m      9\u001b[0m \u001b[0;31m# Find best initial model\u001b[0m\u001b[0;34m\u001b[0m\u001b[0;34m\u001b[0m\u001b[0;34m\u001b[0m\u001b[0m\n\u001b[0;32m---> 10\u001b[0;31m \u001b[0minitial_scores\u001b[0m \u001b[0;34m=\u001b[0m \u001b[0;34m[\u001b[0m\u001b[0mnp\u001b[0m\u001b[0;34m.\u001b[0m\u001b[0msqrt\u001b[0m\u001b[0;34m(\u001b[0m\u001b[0mmean_squared_error\u001b[0m\u001b[0;34m(\u001b[0m\u001b[0moofs\u001b[0m\u001b[0;34m[\u001b[0m\u001b[0mc\u001b[0m\u001b[0;34m]\u001b[0m\u001b[0;34m,\u001b[0m \u001b[0moofs\u001b[0m\u001b[0;34m[\u001b[0m\u001b[0;34m\"target\"\u001b[0m\u001b[0;34m]\u001b[0m\u001b[0;34m)\u001b[0m\u001b[0;34m)\u001b[0m \u001b[0;32mfor\u001b[0m \u001b[0mc\u001b[0m \u001b[0;32min\u001b[0m \u001b[0mcandidates\u001b[0m\u001b[0;34m]\u001b[0m\u001b[0;34m\u001b[0m\u001b[0;34m\u001b[0m\u001b[0m\n\u001b[0m\u001b[1;32m     11\u001b[0m \u001b[0midx\u001b[0m \u001b[0;34m=\u001b[0m \u001b[0mnp\u001b[0m\u001b[0;34m.\u001b[0m\u001b[0margmin\u001b[0m\u001b[0;34m(\u001b[0m\u001b[0minitial_scores\u001b[0m\u001b[0;34m)\u001b[0m\u001b[0;34m\u001b[0m\u001b[0;34m\u001b[0m\u001b[0m\n\u001b[1;32m     12\u001b[0m \u001b[0mbest_score\u001b[0m \u001b[0;34m=\u001b[0m \u001b[0minitial_scores\u001b[0m\u001b[0;34m[\u001b[0m\u001b[0midx\u001b[0m\u001b[0;34m]\u001b[0m\u001b[0;34m\u001b[0m\u001b[0;34m\u001b[0m\u001b[0m\n",
      "\u001b[0;32m<ipython-input-62-90e2b006ac4c>\u001b[0m in \u001b[0;36m<listcomp>\u001b[0;34m(.0)\u001b[0m\n\u001b[1;32m      8\u001b[0m \u001b[0;34m\u001b[0m\u001b[0m\n\u001b[1;32m      9\u001b[0m \u001b[0;31m# Find best initial model\u001b[0m\u001b[0;34m\u001b[0m\u001b[0;34m\u001b[0m\u001b[0;34m\u001b[0m\u001b[0m\n\u001b[0;32m---> 10\u001b[0;31m \u001b[0minitial_scores\u001b[0m \u001b[0;34m=\u001b[0m \u001b[0;34m[\u001b[0m\u001b[0mnp\u001b[0m\u001b[0;34m.\u001b[0m\u001b[0msqrt\u001b[0m\u001b[0;34m(\u001b[0m\u001b[0mmean_squared_error\u001b[0m\u001b[0;34m(\u001b[0m\u001b[0moofs\u001b[0m\u001b[0;34m[\u001b[0m\u001b[0mc\u001b[0m\u001b[0;34m]\u001b[0m\u001b[0;34m,\u001b[0m \u001b[0moofs\u001b[0m\u001b[0;34m[\u001b[0m\u001b[0;34m\"target\"\u001b[0m\u001b[0;34m]\u001b[0m\u001b[0;34m)\u001b[0m\u001b[0;34m)\u001b[0m \u001b[0;32mfor\u001b[0m \u001b[0mc\u001b[0m \u001b[0;32min\u001b[0m \u001b[0mcandidates\u001b[0m\u001b[0;34m]\u001b[0m\u001b[0;34m\u001b[0m\u001b[0;34m\u001b[0m\u001b[0m\n\u001b[0m\u001b[1;32m     11\u001b[0m \u001b[0midx\u001b[0m \u001b[0;34m=\u001b[0m \u001b[0mnp\u001b[0m\u001b[0;34m.\u001b[0m\u001b[0margmin\u001b[0m\u001b[0;34m(\u001b[0m\u001b[0minitial_scores\u001b[0m\u001b[0;34m)\u001b[0m\u001b[0;34m\u001b[0m\u001b[0;34m\u001b[0m\u001b[0m\n\u001b[1;32m     12\u001b[0m \u001b[0mbest_score\u001b[0m \u001b[0;34m=\u001b[0m \u001b[0minitial_scores\u001b[0m\u001b[0;34m[\u001b[0m\u001b[0midx\u001b[0m\u001b[0;34m]\u001b[0m\u001b[0;34m\u001b[0m\u001b[0;34m\u001b[0m\u001b[0m\n",
      "\u001b[0;32m~/anaconda3/envs/kaggle/lib/python3.8/site-packages/pandas/core/frame.py\u001b[0m in \u001b[0;36m__getitem__\u001b[0;34m(self, key)\u001b[0m\n\u001b[1;32m   3022\u001b[0m             \u001b[0;32mif\u001b[0m \u001b[0mself\u001b[0m\u001b[0;34m.\u001b[0m\u001b[0mcolumns\u001b[0m\u001b[0;34m.\u001b[0m\u001b[0mnlevels\u001b[0m \u001b[0;34m>\u001b[0m \u001b[0;36m1\u001b[0m\u001b[0;34m:\u001b[0m\u001b[0;34m\u001b[0m\u001b[0;34m\u001b[0m\u001b[0m\n\u001b[1;32m   3023\u001b[0m                 \u001b[0;32mreturn\u001b[0m \u001b[0mself\u001b[0m\u001b[0;34m.\u001b[0m\u001b[0m_getitem_multilevel\u001b[0m\u001b[0;34m(\u001b[0m\u001b[0mkey\u001b[0m\u001b[0;34m)\u001b[0m\u001b[0;34m\u001b[0m\u001b[0;34m\u001b[0m\u001b[0m\n\u001b[0;32m-> 3024\u001b[0;31m             \u001b[0mindexer\u001b[0m \u001b[0;34m=\u001b[0m \u001b[0mself\u001b[0m\u001b[0;34m.\u001b[0m\u001b[0mcolumns\u001b[0m\u001b[0;34m.\u001b[0m\u001b[0mget_loc\u001b[0m\u001b[0;34m(\u001b[0m\u001b[0mkey\u001b[0m\u001b[0;34m)\u001b[0m\u001b[0;34m\u001b[0m\u001b[0;34m\u001b[0m\u001b[0m\n\u001b[0m\u001b[1;32m   3025\u001b[0m             \u001b[0;32mif\u001b[0m \u001b[0mis_integer\u001b[0m\u001b[0;34m(\u001b[0m\u001b[0mindexer\u001b[0m\u001b[0;34m)\u001b[0m\u001b[0;34m:\u001b[0m\u001b[0;34m\u001b[0m\u001b[0;34m\u001b[0m\u001b[0m\n\u001b[1;32m   3026\u001b[0m                 \u001b[0mindexer\u001b[0m \u001b[0;34m=\u001b[0m \u001b[0;34m[\u001b[0m\u001b[0mindexer\u001b[0m\u001b[0;34m]\u001b[0m\u001b[0;34m\u001b[0m\u001b[0;34m\u001b[0m\u001b[0m\n",
      "\u001b[0;32m~/anaconda3/envs/kaggle/lib/python3.8/site-packages/pandas/core/indexes/base.py\u001b[0m in \u001b[0;36mget_loc\u001b[0;34m(self, key, method, tolerance)\u001b[0m\n\u001b[1;32m   3080\u001b[0m                 \u001b[0;32mreturn\u001b[0m \u001b[0mself\u001b[0m\u001b[0;34m.\u001b[0m\u001b[0m_engine\u001b[0m\u001b[0;34m.\u001b[0m\u001b[0mget_loc\u001b[0m\u001b[0;34m(\u001b[0m\u001b[0mcasted_key\u001b[0m\u001b[0;34m)\u001b[0m\u001b[0;34m\u001b[0m\u001b[0;34m\u001b[0m\u001b[0m\n\u001b[1;32m   3081\u001b[0m             \u001b[0;32mexcept\u001b[0m \u001b[0mKeyError\u001b[0m \u001b[0;32mas\u001b[0m \u001b[0merr\u001b[0m\u001b[0;34m:\u001b[0m\u001b[0;34m\u001b[0m\u001b[0;34m\u001b[0m\u001b[0m\n\u001b[0;32m-> 3082\u001b[0;31m                 \u001b[0;32mraise\u001b[0m \u001b[0mKeyError\u001b[0m\u001b[0;34m(\u001b[0m\u001b[0mkey\u001b[0m\u001b[0;34m)\u001b[0m \u001b[0;32mfrom\u001b[0m \u001b[0merr\u001b[0m\u001b[0;34m\u001b[0m\u001b[0;34m\u001b[0m\u001b[0m\n\u001b[0m\u001b[1;32m   3083\u001b[0m \u001b[0;34m\u001b[0m\u001b[0m\n\u001b[1;32m   3084\u001b[0m         \u001b[0;32mif\u001b[0m \u001b[0mtolerance\u001b[0m \u001b[0;32mis\u001b[0m \u001b[0;32mnot\u001b[0m \u001b[0;32mNone\u001b[0m\u001b[0;34m:\u001b[0m\u001b[0;34m\u001b[0m\u001b[0;34m\u001b[0m\u001b[0m\n",
      "\u001b[0;31mKeyError\u001b[0m: '20210617-051322'"
     ]
    }
   ],
   "source": [
    "candidates = model_folders.copy()\n",
    "\n",
    "best_score = np.inf\n",
    "selection = []\n",
    "# tol = 0.00001\n",
    "tol = 0\n",
    "y = oofs[\"target\"]\n",
    "\n",
    "# Find best initial model\n",
    "initial_scores = [np.sqrt(mean_squared_error(oofs[c], oofs[\"target\"])) for c in candidates]\n",
    "idx = np.argmin(initial_scores)\n",
    "best_score = initial_scores[idx]\n",
    "selection.append(candidates[idx])\n",
    "print(f\"Initial {candidates[idx]}. Score {best_score:0.5f}\")\n",
    "del candidates[idx]\n",
    "\n",
    "\n",
    "while True:\n",
    "    scores = [get_score(oofs[selection + [c]], y) for c in candidates]\n",
    "    idx = np.argmin(scores)\n",
    "    if scores[idx] < best_score - tol:\n",
    "        best_score = scores[idx]\n",
    "        selection.append(candidates[idx])\n",
    "        print(f\"Added {candidates[idx]}. New best score {best_score:0.5f}\")\n",
    "        del candidates[idx]\n",
    "    else:\n",
    "        break\n",
    "        \n",
    "print(len(selection), \"models selected\")\n",
    "        \n",
    "selection"
   ]
  },
  {
   "cell_type": "code",
   "execution_count": 39,
   "metadata": {
    "ExecuteTime": {
     "end_time": "2021-06-16T13:45:41.997280Z",
     "start_time": "2021-06-16T13:45:41.994261Z"
    }
   },
   "outputs": [],
   "source": [
    "selection = [\n",
    "#     # complex-heron-of-science - roberta-base\n",
    "#     \"20210609-171109\",  # deleted\n",
    "#     \"20210609-174639\",\n",
    "    \"20210609-182121\",\n",
    "#     \"20210609-192843\",  # deleted\n",
    "    \"20210609-200242\",\n",
    "#     # impetuous-marvellous-cockle - roberta-large\n",
    "#     \"20210608-233655\",  # deleted\n",
    "#     \"20210609-004922\",  # deleted\n",
    "    \"20210609-020213\",\n",
    "#     \"20210609-205046\",  # deleted\n",
    "#     \"20210609-220344\",  # deleted\n",
    "#     # zippy-caped-leech - albert-large\n",
    "#     \"20210609-125306\",  # deleted\n",
    "#     \"20210609-141352\",  # deleted\n",
    "#     \"20210609-154233\",\n",
    "    \"20210610-000227\",\n",
    "    \"20210610-013100\",\n",
    "#     # armored-cobalt-crow - distill roberta\n",
    "    \"20210610-074205\",\n",
    "    \"20210610-080716\",\n",
    "#     \"20210610-083206\",  # deleted\n",
    "    \"20210610-085718\",\n",
    "#     \"20210610-093912\",  # deleted\n",
    "#     # big-slug-of-tranquility - funnel transformer\n",
    "    \"20210610-100607\",\n",
    "#     \"20210610-111551\",  # deleted\n",
    "#     \"20210610-122301\",  # deleted\n",
    "    \"20210610-133140\",\n",
    "    \"20210610-144044\",\n",
    "#     # nocturnal-winged-lionfish - bert-base-uncased\n",
    "#     \"20210610-184414\",\n",
    "#     \"20210610-191826\",\n",
    "#     \"20210610-195230\",\n",
    "#     \"20210610-202640\",\n",
    "#     # adaptable-scallop-of-anger - roberta-base (hidden)\n",
    "    \"20210610-222705\",\n",
    "#     \"20210610-230256\",\n",
    "    \"20210610-233847\",\n",
    "    \"20210611-001430\",\n",
    "#     \"20210611-005055\",\n",
    "#     # fluffy-dandelion-skua - roberta-large (hidden)\n",
    "    \"20210611-012655\",\n",
    "    \"20210611-024254\",\n",
    "#     \"20210611-035830\",\n",
    "#     \"20210611-051501\",\n",
    "#     \"20210611-063430\",\n",
    "#     # gregarious-classic-yak - albert-large (hidden)\n",
    "#     \"20210611-080150\",\n",
    "#     \"20210611-092625\",\n",
    "#     \"20210611-105105\",\n",
    "#     \"20210611-121556\",\n",
    "#     \"20210611-134040\",\n",
    "#     # serious-outrageous-caribou - deberta-base\n",
    "#     \"20210611-151313\",\n",
    "    \"20210611-155942\",  # This seed seems amazing\n",
    "    \"20210611-164611\",\n",
    "#     \"20210611-173302\",\n",
    "#     \"20210611-182030\",\n",
    "#     # ostrich-of-abstract-art - deberta-large\n",
    "#     \"20210611-191919\",\n",
    "    \"20210611-212749\",\n",
    "    \"20210611-233646\",\n",
    "#     \"20210612-014457\",\n",
    "#     \"20210612-035134\",\n",
    "]"
   ]
  },
  {
   "cell_type": "code",
   "execution_count": null,
   "metadata": {},
   "outputs": [],
   "source": []
  }
 ],
 "metadata": {
  "kernelspec": {
   "display_name": "Python 3.8.8 64-bit ('kaggle': conda)",
   "language": "python",
   "name": "python388jvsc74a57bd0324064526588904db53d8c1754501a1e17277e16e25f64624bf6abfe73e224f9"
  },
  "language_info": {
   "codemirror_mode": {
    "name": "ipython",
    "version": 3
   },
   "file_extension": ".py",
   "mimetype": "text/x-python",
   "name": "python",
   "nbconvert_exporter": "python",
   "pygments_lexer": "ipython3",
   "version": "3.8.8"
  }
 },
 "nbformat": 4,
 "nbformat_minor": 4
}
