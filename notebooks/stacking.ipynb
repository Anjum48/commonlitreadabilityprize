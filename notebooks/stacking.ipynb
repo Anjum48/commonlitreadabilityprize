{
 "cells": [
  {
   "cell_type": "code",
   "execution_count": 1,
   "metadata": {
    "ExecuteTime": {
     "end_time": "2021-06-10T14:52:42.339799Z",
     "start_time": "2021-06-10T14:52:41.623764Z"
    }
   },
   "outputs": [],
   "source": [
    "from sklearn.linear_model import LinearRegression, RidgeCV\n",
    "from sklearn.model_selection import cross_val_score, LeaveOneOut\n",
    "import pandas as pd\n",
    "import numpy as np\n",
    "import itertools\n",
    "import seaborn as sns\n",
    "import matplotlib.pyplot as plt\n",
    "from tqdm.notebook import tqdm\n",
    "from pathlib import Path\n",
    "\n",
    "INPUT_PATH = Path(\"/mnt/storage_dimm2/kaggle_data/commonlitreadabilityprize\")\n",
    "OUTPUT_PATH = Path(\"/mnt/storage/kaggle_output/commonlitreadabilityprize\")"
   ]
  },
  {
   "cell_type": "code",
   "execution_count": 2,
   "metadata": {
    "ExecuteTime": {
     "end_time": "2021-06-10T14:52:42.344460Z",
     "start_time": "2021-06-10T14:52:42.341347Z"
    }
   },
   "outputs": [],
   "source": [
    "model_folders = [\n",
    "        # complex-heron-of-science - roberta-base\n",
    "        \"20210609-171109\",\n",
    "        \"20210609-174639\",\n",
    "        \"20210609-182121\",\n",
    "        \"20210609-192843\",\n",
    "        \"20210609-200242\",\n",
    "        # impetuous-marvellous-cockle - roberta-large\n",
    "        \"20210608-233655\",\n",
    "        \"20210609-004922\",\n",
    "        \"20210609-020213\",\n",
    "        \"20210609-205046\",\n",
    "        \"20210609-220344\",\n",
    "        # zippy-caped-leech - albert-large\n",
    "        \"20210609-125306\",\n",
    "        \"20210609-141352\",\n",
    "        \"20210609-154233\",\n",
    "        \"20210610-000227\",\n",
    "        \"20210610-013100\",\n",
    "        # armored-cobalt-crow - distill roberta\n",
    "        \"20210610-074205\",\n",
    "        \"20210610-080716\",\n",
    "        \"20210610-083206\",\n",
    "        \"20210610-085718\",\n",
    "        \"20210610-093912\",\n",
    "        # big-slug-of-tranquility - funnel transformer\n",
    "        \"20210610-100607\",\n",
    "        \"20210610-111551\",\n",
    "        \"20210610-122301\",\n",
    "        \"20210610-133140\",\n",
    "        \"20210610-144044\",\n",
    "    ]\n",
    "\n",
    "dataset_paths = [OUTPUT_PATH / f for f in model_folders]"
   ]
  },
  {
   "cell_type": "code",
   "execution_count": 3,
   "metadata": {
    "ExecuteTime": {
     "end_time": "2021-06-10T14:52:42.365923Z",
     "start_time": "2021-06-10T14:52:42.345686Z"
    }
   },
   "outputs": [
    {
     "data": {
      "text/plain": [
       "25"
      ]
     },
     "execution_count": 3,
     "metadata": {},
     "output_type": "execute_result"
    }
   ],
   "source": [
    "mpaths, oof_paths = [], []\n",
    "for p in dataset_paths:\n",
    "    mpaths.append(sorted(list(p.glob(f\"*/*/*.ckpt\"))))\n",
    "    oof_paths.extend(sorted(list(p.glob(f\"*.csv\"))))\n",
    "    \n",
    "len(oof_paths)"
   ]
  },
  {
   "cell_type": "code",
   "execution_count": 4,
   "metadata": {
    "ExecuteTime": {
     "end_time": "2021-06-10T14:52:43.039003Z",
     "start_time": "2021-06-10T14:52:42.367395Z"
    }
   },
   "outputs": [
    {
     "data": {
      "text/html": [
       "<div>\n",
       "<style scoped>\n",
       "    .dataframe tbody tr th:only-of-type {\n",
       "        vertical-align: middle;\n",
       "    }\n",
       "\n",
       "    .dataframe tbody tr th {\n",
       "        vertical-align: top;\n",
       "    }\n",
       "\n",
       "    .dataframe thead th {\n",
       "        text-align: right;\n",
       "    }\n",
       "</style>\n",
       "<table border=\"1\" class=\"dataframe\">\n",
       "  <thead>\n",
       "    <tr style=\"text-align: right;\">\n",
       "      <th></th>\n",
       "      <th>id</th>\n",
       "      <th>target</th>\n",
       "      <th>model_0</th>\n",
       "      <th>model_1</th>\n",
       "      <th>model_2</th>\n",
       "      <th>model_3</th>\n",
       "      <th>model_4</th>\n",
       "      <th>model_5</th>\n",
       "      <th>model_6</th>\n",
       "      <th>model_7</th>\n",
       "      <th>...</th>\n",
       "      <th>model_15</th>\n",
       "      <th>model_16</th>\n",
       "      <th>model_17</th>\n",
       "      <th>model_18</th>\n",
       "      <th>model_19</th>\n",
       "      <th>model_20</th>\n",
       "      <th>model_21</th>\n",
       "      <th>model_22</th>\n",
       "      <th>model_23</th>\n",
       "      <th>model_24</th>\n",
       "    </tr>\n",
       "  </thead>\n",
       "  <tbody>\n",
       "    <tr>\n",
       "      <th>1279</th>\n",
       "      <td>000accf7e</td>\n",
       "      <td>-2.002055</td>\n",
       "      <td>-2.088993</td>\n",
       "      <td>-2.306710</td>\n",
       "      <td>-2.544285</td>\n",
       "      <td>-2.461072</td>\n",
       "      <td>-2.318419</td>\n",
       "      <td>-2.414885</td>\n",
       "      <td>-2.720540</td>\n",
       "      <td>-2.450916</td>\n",
       "      <td>...</td>\n",
       "      <td>-2.348763</td>\n",
       "      <td>-2.592123</td>\n",
       "      <td>-2.466644</td>\n",
       "      <td>-2.492381</td>\n",
       "      <td>-2.475956</td>\n",
       "      <td>-2.206057</td>\n",
       "      <td>-2.463392</td>\n",
       "      <td>-2.184201</td>\n",
       "      <td>-2.379091</td>\n",
       "      <td>-2.427270</td>\n",
       "    </tr>\n",
       "    <tr>\n",
       "      <th>2185</th>\n",
       "      <td>001ef05a9</td>\n",
       "      <td>0.841000</td>\n",
       "      <td>0.355896</td>\n",
       "      <td>0.480146</td>\n",
       "      <td>0.257112</td>\n",
       "      <td>0.491647</td>\n",
       "      <td>0.955953</td>\n",
       "      <td>0.461779</td>\n",
       "      <td>0.648805</td>\n",
       "      <td>0.579610</td>\n",
       "      <td>...</td>\n",
       "      <td>0.265182</td>\n",
       "      <td>0.058387</td>\n",
       "      <td>0.344055</td>\n",
       "      <td>0.324408</td>\n",
       "      <td>0.544704</td>\n",
       "      <td>0.376900</td>\n",
       "      <td>0.343955</td>\n",
       "      <td>0.188399</td>\n",
       "      <td>0.230227</td>\n",
       "      <td>0.180707</td>\n",
       "    </tr>\n",
       "    <tr>\n",
       "      <th>332</th>\n",
       "      <td>00589d631</td>\n",
       "      <td>-2.195109</td>\n",
       "      <td>-2.417788</td>\n",
       "      <td>-2.224137</td>\n",
       "      <td>-2.533192</td>\n",
       "      <td>-2.366248</td>\n",
       "      <td>-2.429449</td>\n",
       "      <td>-2.246266</td>\n",
       "      <td>-2.458676</td>\n",
       "      <td>-2.063646</td>\n",
       "      <td>...</td>\n",
       "      <td>-2.237343</td>\n",
       "      <td>-2.226438</td>\n",
       "      <td>-2.258650</td>\n",
       "      <td>-2.414297</td>\n",
       "      <td>-2.263327</td>\n",
       "      <td>-2.115799</td>\n",
       "      <td>-2.312443</td>\n",
       "      <td>-2.305577</td>\n",
       "      <td>-2.484968</td>\n",
       "      <td>-2.489875</td>\n",
       "    </tr>\n",
       "    <tr>\n",
       "      <th>72</th>\n",
       "      <td>0060c36b9</td>\n",
       "      <td>-1.333456</td>\n",
       "      <td>-1.009778</td>\n",
       "      <td>-0.847859</td>\n",
       "      <td>-0.690594</td>\n",
       "      <td>-0.924791</td>\n",
       "      <td>-0.997060</td>\n",
       "      <td>-1.101249</td>\n",
       "      <td>-0.947619</td>\n",
       "      <td>-0.814517</td>\n",
       "      <td>...</td>\n",
       "      <td>-0.814812</td>\n",
       "      <td>-1.067954</td>\n",
       "      <td>-0.994580</td>\n",
       "      <td>-1.076615</td>\n",
       "      <td>-0.854437</td>\n",
       "      <td>-1.013742</td>\n",
       "      <td>-1.149218</td>\n",
       "      <td>-0.968990</td>\n",
       "      <td>-1.191238</td>\n",
       "      <td>-1.171166</td>\n",
       "    </tr>\n",
       "    <tr>\n",
       "      <th>2694</th>\n",
       "      <td>00d4d251d</td>\n",
       "      <td>0.088764</td>\n",
       "      <td>-0.109442</td>\n",
       "      <td>0.271451</td>\n",
       "      <td>-0.172829</td>\n",
       "      <td>-0.333459</td>\n",
       "      <td>0.241874</td>\n",
       "      <td>0.089942</td>\n",
       "      <td>0.051728</td>\n",
       "      <td>-0.176020</td>\n",
       "      <td>...</td>\n",
       "      <td>-0.271190</td>\n",
       "      <td>-0.105676</td>\n",
       "      <td>-0.283567</td>\n",
       "      <td>-0.260132</td>\n",
       "      <td>-0.067572</td>\n",
       "      <td>0.199371</td>\n",
       "      <td>0.135362</td>\n",
       "      <td>-0.483938</td>\n",
       "      <td>0.078948</td>\n",
       "      <td>0.058464</td>\n",
       "    </tr>\n",
       "  </tbody>\n",
       "</table>\n",
       "<p>5 rows × 27 columns</p>\n",
       "</div>"
      ],
      "text/plain": [
       "             id    target   model_0   model_1   model_2   model_3   model_4  \\\n",
       "1279  000accf7e -2.002055 -2.088993 -2.306710 -2.544285 -2.461072 -2.318419   \n",
       "2185  001ef05a9  0.841000  0.355896  0.480146  0.257112  0.491647  0.955953   \n",
       "332   00589d631 -2.195109 -2.417788 -2.224137 -2.533192 -2.366248 -2.429449   \n",
       "72    0060c36b9 -1.333456 -1.009778 -0.847859 -0.690594 -0.924791 -0.997060   \n",
       "2694  00d4d251d  0.088764 -0.109442  0.271451 -0.172829 -0.333459  0.241874   \n",
       "\n",
       "       model_5   model_6   model_7  ...  model_15  model_16  model_17  \\\n",
       "1279 -2.414885 -2.720540 -2.450916  ... -2.348763 -2.592123 -2.466644   \n",
       "2185  0.461779  0.648805  0.579610  ...  0.265182  0.058387  0.344055   \n",
       "332  -2.246266 -2.458676 -2.063646  ... -2.237343 -2.226438 -2.258650   \n",
       "72   -1.101249 -0.947619 -0.814517  ... -0.814812 -1.067954 -0.994580   \n",
       "2694  0.089942  0.051728 -0.176020  ... -0.271190 -0.105676 -0.283567   \n",
       "\n",
       "      model_18  model_19  model_20  model_21  model_22  model_23  model_24  \n",
       "1279 -2.492381 -2.475956 -2.206057 -2.463392 -2.184201 -2.379091 -2.427270  \n",
       "2185  0.324408  0.544704  0.376900  0.343955  0.188399  0.230227  0.180707  \n",
       "332  -2.414297 -2.263327 -2.115799 -2.312443 -2.305577 -2.484968 -2.489875  \n",
       "72   -1.076615 -0.854437 -1.013742 -1.149218 -0.968990 -1.191238 -1.171166  \n",
       "2694 -0.260132 -0.067572  0.199371  0.135362 -0.483938  0.078948  0.058464  \n",
       "\n",
       "[5 rows x 27 columns]"
      ]
     },
     "execution_count": 4,
     "metadata": {},
     "output_type": "execute_result"
    }
   ],
   "source": [
    "oofs = pd.read_csv(INPUT_PATH / \"train.csv\", usecols=[\"id\", \"target\"]).sort_values(\n",
    "        by=\"id\"\n",
    "    )\n",
    "for i, p in enumerate(oof_paths):\n",
    "    x = pd.read_csv(p).sort_values(by=\"id\")\n",
    "    oofs[f\"model_{i}\"] = x[\"prediction\"].values\n",
    "\n",
    "pred_cols = [f\"model_{i}\" for i in range(len(mpaths))]\n",
    "    \n",
    "oofs.head()"
   ]
  },
  {
   "cell_type": "code",
   "execution_count": 5,
   "metadata": {
    "ExecuteTime": {
     "end_time": "2021-06-10T14:52:43.543000Z",
     "start_time": "2021-06-10T14:52:43.040298Z"
    }
   },
   "outputs": [
    {
     "data": {
      "image/png": "[encoded data removed]",
      "text/plain": [
       "<Figure size 792x648 with 2 Axes>"
      ]
     },
     "metadata": {
      "needs_background": "light"
     },
     "output_type": "display_data"
    }
   ],
   "source": [
    "corr = oofs[pred_cols].corr()\n",
    "\n",
    "mask = np.triu(np.ones_like(corr, dtype=bool))\n",
    "\n",
    "# Set up the matplotlib figure\n",
    "f, ax = plt.subplots(figsize=(11, 9))\n",
    "\n",
    "# Generate a custom diverging colormap\n",
    "cmap = sns.diverging_palette(230, 20, as_cmap=True)\n",
    "\n",
    "# Draw the heatmap with the mask and correct aspect ratio\n",
    "sns.heatmap(corr, mask=mask, cmap=cmap, vmin=0.9, vmax=1.0, # center=0,\n",
    "            square=True, linewidths=.5, cbar_kws={\"shrink\": .5});"
   ]
  },
  {
   "cell_type": "code",
   "execution_count": 6,
   "metadata": {
    "ExecuteTime": {
     "end_time": "2021-06-10T14:52:43.566522Z",
     "start_time": "2021-06-10T14:52:43.544886Z"
    }
   },
   "outputs": [
    {
     "name": "stdout",
     "output_type": "stream",
     "text": [
      "Best score: 0.45641\n"
     ]
    },
    {
     "data": {
      "text/plain": [
       "array([ 0.04273704,  0.0520481 ,  0.06045622,  0.02732763,  0.06043136,\n",
       "        0.0562994 ,  0.05682022,  0.12040311,  0.05050899,  0.05793249,\n",
       "        0.02055318,  0.03420677, -0.02867862, -0.02899512, -0.04169844,\n",
       "        0.06960041, -0.0184979 ,  0.0181367 ,  0.06114595,  0.03705664,\n",
       "        0.06860142,  0.0525309 ,  0.02647658,  0.07929181,  0.08550163])"
      ]
     },
     "execution_count": 6,
     "metadata": {},
     "output_type": "execute_result"
    }
   ],
   "source": [
    "reg = RidgeCV(alphas=(0.01, 0.05, 0.1, 0.5, 1.0, 5.0, 10.0, 50, 100, 500, 1000))\n",
    "reg.fit(oofs[pred_cols], oofs[\"target\"])\n",
    "print(f\"Best score: {np.sqrt(-reg.best_score_):0.5f}\")\n",
    "reg.coef_"
   ]
  },
  {
   "cell_type": "code",
   "execution_count": 7,
   "metadata": {
    "ExecuteTime": {
     "end_time": "2021-06-10T14:52:46.716411Z",
     "start_time": "2021-06-10T14:52:43.568175Z"
    }
   },
   "outputs": [
    {
     "name": "stdout",
     "output_type": "stream",
     "text": [
      "Best score: 0.45752\n"
     ]
    }
   ],
   "source": [
    "scores = cross_val_score(\n",
    "    LinearRegression(),\n",
    "    oofs[pred_cols],\n",
    "    oofs[\"target\"],\n",
    "    scoring=\"neg_mean_squared_error\",\n",
    "    cv=LeaveOneOut(),\n",
    "    n_jobs=-1,\n",
    ")\n",
    "print(f\"Best score: {np.sqrt(np.mean(-scores)):0.5f}\")"
   ]
  },
  {
   "cell_type": "markdown",
   "metadata": {},
   "source": [
    "# Model selection"
   ]
  },
  {
   "cell_type": "code",
   "execution_count": 8,
   "metadata": {
    "ExecuteTime": {
     "end_time": "2021-06-10T14:52:51.662872Z",
     "start_time": "2021-06-10T14:52:46.719144Z"
    }
   },
   "outputs": [
    {
     "data": {
      "text/plain": [
       "33554432"
      ]
     },
     "execution_count": 8,
     "metadata": {},
     "output_type": "execute_result"
    }
   ],
   "source": [
    "def powerset(iterable):\n",
    "    \"powerset([1,2,3]) --> () (1,) (2,) (3,) (1,2) (1,3) (2,3) (1,2,3)\"\n",
    "    s = list(iterable)  # allows duplicate elements\n",
    "    return itertools.chain.from_iterable(itertools.combinations(s, r) for r in range(len(s)+1))\n",
    "\n",
    "subsets = list(powerset(pred_cols))\n",
    "len(subsets)"
   ]
  },
  {
   "cell_type": "code",
   "execution_count": 9,
   "metadata": {
    "ExecuteTime": {
     "end_time": "2021-06-10T14:52:51.666118Z",
     "start_time": "2021-06-10T14:52:51.664274Z"
    }
   },
   "outputs": [],
   "source": [
    "# best_score = 10\n",
    "# best_cols = None\n",
    "\n",
    "# for s in tqdm(subsets[1:]):\n",
    "#     reg = RidgeCV(alphas=(0.01, 0.05, 0.1, 0.5, 1.0, 5.0, 10.0, 50, 100, 500, 1000))\n",
    "#     reg.fit(oofs[list(s)], oofs[\"target\"])\n",
    "#     score = np.sqrt(-reg.best_score_)\n",
    "    \n",
    "#     if score < best_score:\n",
    "#         best_score = score\n",
    "#         best_cols = list(s)\n",
    "        \n",
    "# print(f\"Best score: {best_score:0.5f}\")\n",
    "# print(\"Best cols\", best_cols)"
   ]
  },
  {
   "cell_type": "code",
   "execution_count": 10,
   "metadata": {
    "ExecuteTime": {
     "end_time": "2021-06-10T14:52:51.675337Z",
     "start_time": "2021-06-10T14:52:51.667210Z"
    }
   },
   "outputs": [],
   "source": [
    "# ['model_1', 'model_2', 'model_4', 'model_5', 'model_6', 'model_7', 'model_8', 'model_9', 'model_11', 'model_13', 'model_16']"
   ]
  },
  {
   "cell_type": "code",
   "execution_count": null,
   "metadata": {},
   "outputs": [],
   "source": []
  }
 ],
 "metadata": {
  "kernelspec": {
   "display_name": "Python 3.8.8 64-bit ('kaggle': conda)",
   "language": "python",
   "name": "python388jvsc74a57bd0324064526588904db53d8c1754501a1e17277e16e25f64624bf6abfe73e224f9"
  },
  "language_info": {
   "codemirror_mode": {
    "name": "ipython",
    "version": 3
   },
   "file_extension": ".py",
   "mimetype": "text/x-python",
   "name": "python",
   "nbconvert_exporter": "python",
   "pygments_lexer": "ipython3",
   "version": "3.8.8"
  }
 },
 "nbformat": 4,
 "nbformat_minor": 4
}
