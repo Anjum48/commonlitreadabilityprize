{
 "cells": [
  {
   "cell_type": "markdown",
   "metadata": {},
   "source": [
    "# Model pretraining\n",
    "https://www.kaggle.com/maunish/clrp-pytorch-roberta-pretrain"
   ]
  },
  {
   "cell_type": "code",
   "execution_count": 1,
   "metadata": {
    "ExecuteTime": {
     "end_time": "2021-06-08T19:23:05.912642Z",
     "start_time": "2021-06-08T19:23:04.433084Z"
    }
   },
   "outputs": [],
   "source": [
    "import pandas as pd\n",
    "from pathlib import Path\n",
    "import warnings\n",
    "\n",
    "warnings.filterwarnings(\"ignore\")\n",
    "\n",
    "from transformers import (\n",
    "    AutoModel,\n",
    "    AutoModelForMaskedLM,\n",
    "    AutoTokenizer,\n",
    "    LineByLineTextDataset,\n",
    "    DataCollatorForLanguageModeling,\n",
    "    Trainer,\n",
    "    TrainingArguments,\n",
    ")\n",
    "\n",
    "INPUT_PATH = Path(\"/mnt/storage_dimm2/kaggle_data/commonlitreadabilityprize\")\n",
    "OUTPUT_PATH = Path(\"/mnt/storage/kaggle_output/commonlitreadabilityprize\")\n",
    "MODEL_CACHE = Path(\"/mnt/storage/model_cache/torch\")"
   ]
  },
  {
   "cell_type": "code",
   "execution_count": 2,
   "metadata": {
    "ExecuteTime": {
     "end_time": "2021-06-08T19:23:05.949635Z",
     "start_time": "2021-06-08T19:23:05.914233Z"
    }
   },
   "outputs": [],
   "source": [
    "train_data = pd.read_csv(INPUT_PATH / 'train.csv')\n",
    "test_data = pd.read_csv(INPUT_PATH / 'test.csv')\n",
    "\n",
    "# goodreads = pd.read_csv('../input/goodreads-books-100k/GoodReads_100k_books.csv')\n",
    "# goodreads['desc'] = goodreads['desc'].apply(lambda x: str(x))\n",
    "# extra = pd.read_table('../input/clrp-external/weebit_reextracted.tsv')\n",
    "# one_stop_english = pd.read_csv('../input/onestopenglishcorpus/all_data.csv')\n",
    "# jigsaw = pd.read_csv('../input/jigsaw-toxic-comment-classification-challenge/train.csv.zip')\n",
    "\n",
    "text  = '.'.join(train_data.excerpt.tolist() + test_data.excerpt.tolist())\n",
    "\n",
    "with open(INPUT_PATH / 'pretrain_text.txt','w') as f:\n",
    "    f.write(text)"
   ]
  },
  {
   "cell_type": "code",
   "execution_count": 3,
   "metadata": {
    "ExecuteTime": {
     "end_time": "2021-06-08T19:23:13.507062Z",
     "start_time": "2021-06-08T19:23:05.951589Z"
    }
   },
   "outputs": [
    {
     "name": "stderr",
     "output_type": "stream",
     "text": [
      "Some weights of the model checkpoint at deepset/roberta-large-squad2 were not used when initializing RobertaForMaskedLM: ['qa_outputs.weight', 'qa_outputs.bias']\n",
      "- This IS expected if you are initializing RobertaForMaskedLM from the checkpoint of a model trained on another task or with another architecture (e.g. initializing a BertForSequenceClassification model from a BertForPreTraining model).\n",
      "- This IS NOT expected if you are initializing RobertaForMaskedLM from the checkpoint of a model that you expect to be exactly identical (initializing a BertForSequenceClassification model from a BertForSequenceClassification model).\n",
      "Some weights of RobertaForMaskedLM were not initialized from the model checkpoint at deepset/roberta-large-squad2 and are newly initialized: ['lm_head.bias', 'lm_head.layer_norm.bias', 'lm_head.layer_norm.weight', 'lm_head.dense.weight', 'lm_head.decoder.weight', 'lm_head.dense.bias']\n",
      "You should probably TRAIN this model on a down-stream task to be able to use it for predictions and inference.\n"
     ]
    }
   ],
   "source": [
    "model_name = 'deepset/roberta-large-squad2'\n",
    "\n",
    "model = AutoModelForMaskedLM.from_pretrained(model_name, cache_dir=MODEL_CACHE)\n",
    "tokenizer = AutoTokenizer.from_pretrained(model_name, cache_dir=MODEL_CACHE)"
   ]
  },
  {
   "cell_type": "code",
   "execution_count": 4,
   "metadata": {
    "ExecuteTime": {
     "end_time": "2021-06-08T19:23:17.476164Z",
     "start_time": "2021-06-08T19:23:13.508632Z"
    }
   },
   "outputs": [],
   "source": [
    "dataset = LineByLineTextDataset(\n",
    "    tokenizer=tokenizer,\n",
    "    file_path=str(INPUT_PATH / \"pretrain_text.txt\"),\n",
    "    block_size=128,\n",
    ")\n",
    "\n",
    "data_collator = DataCollatorForLanguageModeling(\n",
    "    tokenizer=tokenizer, mlm=True, mlm_probability=0.15\n",
    ")\n",
    "\n",
    "training_args = TrainingArguments(\n",
    "    output_dir=str(OUTPUT_PATH / \"pretraining\" / model_name),\n",
    "    overwrite_output_dir=True,\n",
    "    num_train_epochs=2,\n",
    "    per_device_train_batch_size=32,\n",
    "    save_total_limit=2,\n",
    "    prediction_loss_only=True,\n",
    "    report_to=\"none\",\n",
    ")\n",
    "\n",
    "trainer = Trainer(\n",
    "    model=model, args=training_args, data_collator=data_collator, train_dataset=dataset\n",
    ")"
   ]
  },
  {
   "cell_type": "code",
   "execution_count": 5,
   "metadata": {
    "ExecuteTime": {
     "end_time": "2021-06-08T19:26:42.837998Z",
     "start_time": "2021-06-08T19:23:17.477451Z"
    }
   },
   "outputs": [
    {
     "name": "stderr",
     "output_type": "stream",
     "text": [
      "100%|██████████| 134/134 [03:24<00:00,  1.53s/it]\n"
     ]
    },
    {
     "name": "stdout",
     "output_type": "stream",
     "text": [
      "{'train_runtime': 204.6879, 'train_samples_per_second': 0.655, 'epoch': 2.0}\n"
     ]
    },
    {
     "data": {
      "text/plain": [
       "TrainOutput(global_step=134, training_loss=5.318245958926073, metrics={'train_runtime': 204.6879, 'train_samples_per_second': 0.655, 'epoch': 2.0, 'init_mem_cpu_alloc_delta': 2099240960, 'init_mem_gpu_alloc_delta': 1421652992, 'init_mem_cpu_peaked_delta': 1417252864, 'init_mem_gpu_peaked_delta': 0, 'train_mem_cpu_alloc_delta': 1268400128, 'train_mem_gpu_alloc_delta': 4265105408, 'train_mem_cpu_peaked_delta': 32768, 'train_mem_gpu_peaked_delta': 12647294464})"
      ]
     },
     "execution_count": 5,
     "metadata": {},
     "output_type": "execute_result"
    }
   ],
   "source": [
    "trainer.train()"
   ]
  },
  {
   "cell_type": "code",
   "execution_count": 6,
   "metadata": {
    "ExecuteTime": {
     "end_time": "2021-06-08T19:26:44.595035Z",
     "start_time": "2021-06-08T19:26:42.839547Z"
    }
   },
   "outputs": [],
   "source": [
    "trainer.save_model(str(OUTPUT_PATH / \"pretraining\" / model_name))"
   ]
  },
  {
   "cell_type": "code",
   "execution_count": null,
   "metadata": {},
   "outputs": [],
   "source": []
  }
 ],
 "metadata": {
  "kernelspec": {
   "display_name": "Python 3.8.8 64-bit ('kaggle': conda)",
   "language": "python",
   "name": "python388jvsc74a57bd0324064526588904db53d8c1754501a1e17277e16e25f64624bf6abfe73e224f9"
  },
  "language_info": {
   "codemirror_mode": {
    "name": "ipython",
    "version": 3
   },
   "file_extension": ".py",
   "mimetype": "text/x-python",
   "name": "python",
   "nbconvert_exporter": "python",
   "pygments_lexer": "ipython3",
   "version": "3.8.8"
  }
 },
 "nbformat": 4,
 "nbformat_minor": 4
}
